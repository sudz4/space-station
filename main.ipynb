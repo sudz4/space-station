{
 "cells": [
  {
   "cell_type": "markdown",
   "metadata": {},
   "source": []
  },
  {
   "cell_type": "code",
   "execution_count": 18,
   "metadata": {},
   "outputs": [],
   "source": [
    "import requests\n",
    "import urllib.request\n",
    "import json"
   ]
  },
  {
   "cell_type": "code",
   "execution_count": 25,
   "metadata": {},
   "outputs": [
    {
     "name": "stdout",
     "output_type": "stream",
     "text": [
      "API STATUS CODE: 200\n",
      "{'timestamp': 1673933889, 'iss_position': {'longitude': '137.5674', 'latitude': '-21.0505'}, 'message': 'success'}\n"
     ]
    }
   ],
   "source": [
    "# url for the current location of the international space station (ISS)\n",
    "api_url = 'http://api.open-notify.org/iss-now.json'\n",
    "response = requests.get(api_url)\n",
    "# verify connection = 200\n",
    "print(f'API STATUS CODE: {response.status_code}')\n",
    "\n",
    "# read the response from the api url endpoint\n",
    "response = urllib.request.urlopen(api_url)\n",
    "# store the current as json object\n",
    "json_obj = json.loads(response.read())\n",
    "# print the current location of the ISS and associated data (timestamp, etc.)\n",
    "print(json_obj)\n"
   ]
  },
  {
   "cell_type": "code",
   "execution_count": null,
   "metadata": {},
   "outputs": [],
   "source": [
    "# parse json\n",
    "lat = json_obj['iss_position']['latitude']\n",
    "long = json_obj['iss_position']['longitude']\n",
    "\n"
   ]
  }
 ],
 "metadata": {
  "kernelspec": {
   "display_name": "space_venv",
   "language": "python",
   "name": "python3"
  },
  "language_info": {
   "codemirror_mode": {
    "name": "ipython",
    "version": 3
   },
   "file_extension": ".py",
   "mimetype": "text/x-python",
   "name": "python",
   "nbconvert_exporter": "python",
   "pygments_lexer": "ipython3",
   "version": "3.11.1"
  },
  "orig_nbformat": 4,
  "vscode": {
   "interpreter": {
    "hash": "ddbd1b0ffa3789345d38f208869ae6315a975344c125fd2df25b0871f653b25d"
   }
  }
 },
 "nbformat": 4,
 "nbformat_minor": 2
}
