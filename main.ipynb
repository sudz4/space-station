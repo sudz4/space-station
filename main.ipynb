{
 "cells": [
  {
   "attachments": {},
   "cell_type": "markdown",
   "metadata": {},
   "source": [
    "| ISS Tracker | International Space Station Tracker  |\n",
    "| ----------- | ----------- |\n",
    "| Date | Jan 2023 |\n",
    "| Base API url | http://api.open-notify.org/ |"
   ]
  },
  {
   "cell_type": "code",
   "execution_count": 165,
   "metadata": {},
   "outputs": [],
   "source": [
    "import requests\n",
    "import urllib.request\n",
    "import json\n",
    "\n",
    "# map libs\n",
    "import folium\n",
    "from folium import Map, Marker, GeoJson, LayerControl, FeatureGroup\n",
    "from folium.plugins import MarkerCluster\n",
    "from folium.plugins import MarkerCluster\n",
    "from folium import FeatureGroup, LayerControl, Map, Marker\n",
    "import geocoder\n"
   ]
  },
  {
   "cell_type": "code",
   "execution_count": 166,
   "metadata": {},
   "outputs": [
    {
     "name": "stdout",
     "output_type": "stream",
     "text": [
      "API STATUS CODE: 200\n",
      "{'message': 'success', 'iss_position': {'latitude': '-45.0557', 'longitude': '-71.2261'}, 'timestamp': 1674144974}\n",
      "\n",
      "-45.0557, -71.2261\n"
     ]
    }
   ],
   "source": [
    "# url for the current location of the international space station (ISS)\n",
    "api_url = 'http://api.open-notify.org/iss-now.json'\n",
    "response = requests.get(api_url)\n",
    "# verify connection = 200\n",
    "print(f'API STATUS CODE: {response.status_code}')\n",
    "\n",
    "# read the response from the api url endpoint\n",
    "response = urllib.request.urlopen(api_url)\n",
    "# store the current as json object\n",
    "json_obj = json.loads(response.read())\n",
    "# print the current location of the ISS and associated data (timestamp, etc.)\n",
    "print(json_obj)\n",
    "\n",
    "# parse json -> extracts lat and long\n",
    "lat = json_obj['iss_position']['latitude']\n",
    "long = json_obj['iss_position']['longitude']\n",
    "# print the ISS current exact latitude and longitude\n",
    "print(f'\\n{lat}, {long}')\n"
   ]
  },
  {
   "cell_type": "code",
   "execution_count": null,
   "metadata": {},
   "outputs": [],
   "source": [
    "# create a map centered on teh ISS's current location\n",
    "map = folium.Map(location=[lat,long], tiles='CartoDB dark_matter', zoom_start=3)\n",
    "\n",
    "# add marker for the ISS's location\n",
    "# folium.Marker([lat,long]).add_to(map)\n",
    "\n",
    "# create a custom icon\n",
    "icon = folium.features.CustomIcon('iss_1.png', icon_size=(50,50))\n",
    "# add marker to map with custom icon\n",
    "folium.Marker([lat, long], icon=icon).add_to(map)\n",
    "\n",
    "# display map\n",
    "display(map)"
   ]
  },
  {
   "cell_type": "code",
   "execution_count": 167,
   "metadata": {},
   "outputs": [
    {
     "name": "stdout",
     "output_type": "stream",
     "text": [
      "Number of people currently aboard the ISS: 10\n",
      "\n",
      "Names of people aboard the ISS:\n",
      "Sergey Prokopyev\n",
      "Dmitry Petelin\n",
      "Frank Rubio\n",
      "Nicole Mann\n",
      "Josh Cassada\n",
      "Koichi Wakata\n",
      "Anna Kikina\n",
      "Fei Junlong\n",
      "Deng Qingming\n",
      "Zhang Lu\n"
     ]
    }
   ],
   "source": [
    "astro_url = 'http://api.open-notify.org/astros.json'\n",
    "astro_response = requests.get(astro_url)\n",
    "astro_data = astro_response.json()\n",
    "\n",
    "print(\"Number of people currently aboard the ISS:\", astro_data['number'])\n",
    "print(\"\\nNames of people aboard the ISS:\")\n",
    "\n",
    "for i in astro_data['people']:\n",
    "    print(i['name'])"
   ]
  },
  {
   "attachments": {},
   "cell_type": "markdown",
   "metadata": {},
   "source": [
    "| END OF PROGRAM | \n",
    "| ----------- |"
   ]
  },
  {
   "cell_type": "code",
   "execution_count": null,
   "metadata": {},
   "outputs": [],
   "source": [
    "\n"
   ]
  },
  {
   "cell_type": "code",
   "execution_count": null,
   "metadata": {},
   "outputs": [],
   "source": []
  }
 ],
 "metadata": {
  "kernelspec": {
   "display_name": "space_venv",
   "language": "python",
   "name": "python3"
  },
  "language_info": {
   "codemirror_mode": {
    "name": "ipython",
    "version": 3
   },
   "file_extension": ".py",
   "mimetype": "text/x-python",
   "name": "python",
   "nbconvert_exporter": "python",
   "pygments_lexer": "ipython3",
   "version": "3.11.1"
  },
  "orig_nbformat": 4,
  "vscode": {
   "interpreter": {
    "hash": "ddbd1b0ffa3789345d38f208869ae6315a975344c125fd2df25b0871f653b25d"
   }
  }
 },
 "nbformat": 4,
 "nbformat_minor": 2
}
