{
 "cells": [
  {
   "attachments": {},
   "cell_type": "markdown",
   "metadata": {},
   "source": [
    "| SMS Notifications | ISS (International Space Station) |\n",
    "| ----------- | ----------- |\n",
    "| Date | FEB 2023 |"
   ]
  },
  {
   "cell_type": "code",
   "execution_count": 9,
   "metadata": {},
   "outputs": [],
   "source": [
    "# libs\n",
    "import requests\n",
    "import time\n",
    "import pytz\n",
    "import datetime\n",
    "\n",
    "# config\n",
    "import twilio_keys # comment out the other keys if you want this to work\n",
    "# if you have two sets of keys in the config file this doesn't work for some reason\n",
    "from twilio_keys import twilio_sid, twilio_auth_token"
   ]
  },
  {
   "cell_type": "code",
   "execution_count": 12,
   "metadata": {},
   "outputs": [],
   "source": [
    "# replace the placeholder with your actual phone number\n",
    "to_number = \"+16199447143\"\n",
    "\n",
    "# replace the placeholder with your actual Twilio phone number\n",
    "twilio_number = \"+18556438915\"\n",
    "\n",
    "# latitude and longitude coordinates\n",
    "my_location = (40.9807, -73.6837) # Rye, NY\n",
    "\n",
    "def send_sms(body):\n",
    "    response = requests.post(\n",
    "        \"https://api.twilio.com/2023-04-08/Accounts/{}/Messages.json\".format(twilio_sid),\n",
    "        auth=(twilio_sid, twilio_auth_token),\n",
    "        data={\n",
    "            \"To\": to_number,\n",
    "            \"From\": twilio_number,\n",
    "            \"Body\": body\n",
    "        }\n",
    "    )\n",
    "    print(response.status_code)\n",
    "    print(response.content)\n",
    "\n",
    "def get_iss_passes():\n",
    "    response = requests.get(\"http://api.open-notify.org/iss-pass.json\",\n",
    "                            params={\"lat\": my_location[0], \"lon\": my_location[1]})\n",
    "    data = response.json()\n",
    "    return data['response']\n",
    "\n",
    "def notify_iss_passes():\n",
    "    passes = get_iss_passes()\n",
    "    current_time = datetime.datetime.now(pytz.utc)\n",
    "    for pass_time in passes:\n",
    "        rise_time = datetime.datetime.fromtimestamp(pass_time['risetime'], pytz.utc)\n",
    "        if rise_time > current_time:\n",
    "            time_to_rise = (rise_time - current_time).total_seconds()\n",
    "            if time_to_rise <= 120:\n",
    "                message = \"The International Space Station will be flying over your location in 2 minutes!\"\n",
    "                send_sms(message)\n",
    "                return\n",
    "\n",
    "# if __name__ == \"__main__\":\n",
    "#     while True:\n",
    "#         notify_iss_passes()\n",
    "#         time.sleep(30)"
   ]
  },
  {
   "cell_type": "code",
   "execution_count": null,
   "metadata": {},
   "outputs": [],
   "source": []
  }
 ],
 "metadata": {
  "kernelspec": {
   "display_name": "Python 3",
   "language": "python",
   "name": "python3"
  },
  "language_info": {
   "codemirror_mode": {
    "name": "ipython",
    "version": 3
   },
   "file_extension": ".py",
   "mimetype": "text/x-python",
   "name": "python",
   "nbconvert_exporter": "python",
   "pygments_lexer": "ipython3",
   "version": "3.11.1"
  },
  "orig_nbformat": 4,
  "vscode": {
   "interpreter": {
    "hash": "aee8b7b246df8f9039afb4144a1f6fd8d2ca17a180786b69acc140d282b71a49"
   }
  }
 },
 "nbformat": 4,
 "nbformat_minor": 2
}
