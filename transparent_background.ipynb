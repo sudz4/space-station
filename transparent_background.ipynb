{
 "cells": [
  {
   "cell_type": "code",
   "execution_count": 1,
   "metadata": {},
   "outputs": [],
   "source": [
    "from PIL import Image\n",
    "\n",
    "# open the image\n",
    "im = Image.open('iss_2.png')\n",
    "\n",
    "# make the background transparent\n",
    "im = im.convert(\"RGBA\")\n",
    "pixdata = im.load()\n",
    "\n",
    "# loop through all pixels\n",
    "for y in range(im.size[1]):\n",
    "    for x in range(im.size[0]):\n",
    "        if pixdata[x, y] == (255, 255, 255, 255): # if the pixel is white (background color)\n",
    "            pixdata[x, y] = (255, 255, 255, 0) # set the alpha channel to 0\n",
    "\n",
    "# save the image with a transparent background\n",
    "im.save(\"iss_2_trans.png\", \"PNG\")"
   ]
  },
  {
   "cell_type": "code",
   "execution_count": null,
   "metadata": {},
   "outputs": [],
   "source": []
  }
 ],
 "metadata": {
  "kernelspec": {
   "display_name": "Python 3",
   "language": "python",
   "name": "python3"
  },
  "language_info": {
   "codemirror_mode": {
    "name": "ipython",
    "version": 3
   },
   "file_extension": ".py",
   "mimetype": "text/x-python",
   "name": "python",
   "nbconvert_exporter": "python",
   "pygments_lexer": "ipython3",
   "version": "3.11.1"
  },
  "orig_nbformat": 4,
  "vscode": {
   "interpreter": {
    "hash": "aee8b7b246df8f9039afb4144a1f6fd8d2ca17a180786b69acc140d282b71a49"
   }
  }
 },
 "nbformat": 4,
 "nbformat_minor": 2
}
