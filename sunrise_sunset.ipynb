{
 "cells": [
  {
   "attachments": {},
   "cell_type": "markdown",
   "metadata": {},
   "source": [
    "| Sunrise / Sunset Tracker | Fetches sunrise and sunset data |\n",
    "| ----------- | ----------- |\n",
    "| Date | Jan 2023 |\n",
    "| JSON API url | https://api.sunrise-sunset.org/json |"
   ]
  },
  {
   "cell_type": "code",
   "execution_count": 32,
   "metadata": {},
   "outputs": [],
   "source": [
    "import requests\n",
    "import time\n",
    "from datetime import datetime\n",
    "\n",
    "from geopy import *"
   ]
  },
  {
   "cell_type": "code",
   "execution_count": 33,
   "metadata": {},
   "outputs": [],
   "source": [
    "# get current location\n"
   ]
  },
  {
   "cell_type": "code",
   "execution_count": 46,
   "metadata": {},
   "outputs": [],
   "source": [
    "# store coordinates for Pacific Beach, California\n",
    "MY_LAT = '32.802353' # North\n",
    "MY_LONG = '-117.241676' # West"
   ]
  },
  {
   "cell_type": "code",
   "execution_count": 47,
   "metadata": {},
   "outputs": [
    {
     "name": "stdout",
     "output_type": "stream",
     "text": [
      "API CONNECTION STATUS CODE: 200\n",
      "{'results': {'sunrise': '2023-01-18T14:49:18+00:00', 'sunset': '2023-01-19T01:09:28+00:00', 'solar_noon': '2023-01-18T19:59:23+00:00', 'day_length': 37210, 'civil_twilight_begin': '2023-01-18T14:24:09+00:00', 'civil_twilight_end': '2023-01-19T01:34:38+00:00', 'nautical_twilight_begin': '2023-01-18T13:54:00+00:00', 'nautical_twilight_end': '2023-01-19T02:04:46+00:00', 'astronomical_twilight_begin': '2023-01-18T13:24:27+00:00', 'astronomical_twilight_end': '2023-01-19T02:34:20+00:00'}, 'status': 'OK'}\n"
     ]
    }
   ],
   "source": [
    "sunrise_sunset_url = 'https://api.sunrise-sunset.org/json'\n",
    "\n",
    "# set parameters for ths sunrise-sunset api\n",
    "parameters = {\n",
    "    'lat': MY_LAT,\n",
    "    'lng': MY_LONG,\n",
    "    'formatted': 0,\n",
    "}\n",
    "\n",
    "sun_response = requests.get(url=sunrise_sunset_url, params=parameters)\n",
    "print(f'API CONNECTION STATUS CODE: {sun_response.status_code}')\n",
    "\n",
    "sun_data = sun_response.json()\n",
    "print(sun_data)"
   ]
  },
  {
   "cell_type": "code",
   "execution_count": 49,
   "metadata": {},
   "outputs": [
    {
     "name": "stdout",
     "output_type": "stream",
     "text": [
      "2023-01-18T14:49:18+00:00\n",
      " 2023-01-19T01:09:28+00:00\n"
     ]
    }
   ],
   "source": [
    "# sunrise = int(sun_data[\"results\"][\"sunrise\"].split('T')[1].split(':')[0])\n",
    "# sunset = int(sun_data[\"results\"][\"sunset\"].split('T')[1].split(':')[0])\n",
    "\n",
    "sunrise = sun_data[\"results\"][\"sunrise\"]\n",
    "sunset = sun_data[\"results\"][\"sunset\"]\n",
    "\n",
    "print(f'{sunrise}\\n {sunset}')"
   ]
  },
  {
   "cell_type": "code",
   "execution_count": null,
   "metadata": {},
   "outputs": [],
   "source": [
    "# adjust time to reflect current time zone"
   ]
  }
 ],
 "metadata": {
  "kernelspec": {
   "display_name": "space_venv",
   "language": "python",
   "name": "python3"
  },
  "language_info": {
   "codemirror_mode": {
    "name": "ipython",
    "version": 3
   },
   "file_extension": ".py",
   "mimetype": "text/x-python",
   "name": "python",
   "nbconvert_exporter": "python",
   "pygments_lexer": "ipython3",
   "version": "3.11.1"
  },
  "orig_nbformat": 4,
  "vscode": {
   "interpreter": {
    "hash": "ddbd1b0ffa3789345d38f208869ae6315a975344c125fd2df25b0871f653b25d"
   }
  }
 },
 "nbformat": 4,
 "nbformat_minor": 2
}
