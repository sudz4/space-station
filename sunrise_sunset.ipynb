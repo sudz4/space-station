{
 "cells": [
  {
   "attachments": {},
   "cell_type": "markdown",
   "metadata": {},
   "source": [
    "| Sunrise / Sunset Tracker | Fetches sunrise and sunset data |\n",
    "| ----------- | ----------- |\n",
    "| Date | Jan 2023 |\n",
    "| JSON API url | https://api.sunrise-sunset.org/json |"
   ]
  },
  {
   "cell_type": "code",
   "execution_count": 107,
   "metadata": {},
   "outputs": [],
   "source": [
    "import requests\n",
    "import time\n",
    "import datetime as dt\n",
    "\n",
    "from geopy.geocoders import Nominatim\n",
    "import pytz"
   ]
  },
  {
   "cell_type": "code",
   "execution_count": 108,
   "metadata": {},
   "outputs": [
    {
     "name": "stdout",
     "output_type": "stream",
     "text": [
      "32.7174202 -117.1627728\n"
     ]
    }
   ],
   "source": [
    "# get the lat and long for your city\n",
    "geolocator = Nominatim(user_agent=\"geoapiExercises\")\n",
    "city = \"San Diego\"\n",
    "location = geolocator.geocode(city)\n",
    "MY_LAT = location.latitude\n",
    "MY_LONG = location.longitude\n",
    "print(location.latitude, location.longitude)"
   ]
  },
  {
   "cell_type": "code",
   "execution_count": 109,
   "metadata": {},
   "outputs": [],
   "source": [
    "# api call to GET sunrise and sunset times\n",
    "sunrise_sunset_url = 'https://api.sunrise-sunset.org/json'\n",
    "parameters = {\n",
    "    'lat': MY_LAT,\n",
    "    'lng': MY_LONG,\n",
    "    'formatted': 0,\n",
    "    'date': dt.datetime.now().strftime(\"%Y-%m-%d\")\n",
    "}\n",
    "\n",
    "# get the sun response\n",
    "sun_response = requests.get(url=sunrise_sunset_url, params=parameters)\n",
    "# get sun data as JSON\n",
    "sun_data = sun_response.json()\n"
   ]
  },
  {
   "cell_type": "code",
   "execution_count": 110,
   "metadata": {},
   "outputs": [
    {
     "name": "stdout",
     "output_type": "stream",
     "text": [
      "UTC time Sunrise: 2023-01-18T14:48:49+00:00\n",
      "UTC time Sunset: 2023-01-19T01:09:20+00:00\n"
     ]
    }
   ],
   "source": [
    "# extract sunrise and sunset times\n",
    "sunrise = sun_data[\"results\"][\"sunrise\"]\n",
    "sunset = sun_data[\"results\"][\"sunset\"]\n",
    "\n",
    "print(f'UTC time Sunrise: {sunrise}\\nUTC time Sunset: {sunset}')"
   ]
  },
  {
   "cell_type": "code",
   "execution_count": 111,
   "metadata": {},
   "outputs": [
    {
     "name": "stdout",
     "output_type": "stream",
     "text": [
      "Sunrise: 2023-01-18 06:48:49-08:00\n",
      "Sunset: 2023-01-18 17:09:20-08:00\n"
     ]
    }
   ],
   "source": [
    "# convert UTC time to San Diego time\n",
    "local_tz = pytz.timezone(\"America/Los_Angeles\")\n",
    "sunrise = dt.datetime.strptime(sunrise, '%Y-%m-%dT%H:%M:%S%z').replace(tzinfo=pytz.UTC).astimezone(local_tz)\n",
    "sunset = dt.datetime.strptime(sunset, '%Y-%m-%dT%H:%M:%S%z').replace(tzinfo=pytz.UTC).astimezone(local_tz)\n",
    "\n",
    "# get today's date\n",
    "now = dt.datetime.now()\n",
    "today = now.date()\n",
    "\n",
    "# print the date and the sunrise / sunset times\n",
    "# print(\"Today's date:\", today)\n",
    "print(f'Sunrise: {sunrise}')\n",
    "print(f'Sunset: {sunset}')"
   ]
  },
  {
   "attachments": {},
   "cell_type": "markdown",
   "metadata": {},
   "source": [
    "| END OF PROGRAM | \n",
    "| ----------- |"
   ]
  },
  {
   "cell_type": "code",
   "execution_count": 112,
   "metadata": {},
   "outputs": [],
   "source": [
    "# # get current location\n",
    "# my_ip_address = requests.get('https://api.ipify.org').text\n",
    "# print(f\"Your computers' public IP address: {my_ip_address}\")"
   ]
  },
  {
   "cell_type": "code",
   "execution_count": 113,
   "metadata": {},
   "outputs": [],
   "source": [
    "# geolocator = Nominatim(user_agent='geoapiExercises')\n",
    "# user_location = geolocator.geocode(my_ip_address)\n",
    "# print(user_location)"
   ]
  },
  {
   "cell_type": "code",
   "execution_count": 114,
   "metadata": {},
   "outputs": [],
   "source": [
    "# geolocator = Nominatim(user_agent=\"geoapiExercises\")\n",
    "# city = \"San Diego\"\n",
    "# location = geolocator.geocode(city)\n",
    "# MY_LAT = location.latitude\n",
    "# MY_LONG = location.longitude\n",
    "# print(location.latitude, location.longitude)"
   ]
  },
  {
   "cell_type": "code",
   "execution_count": 115,
   "metadata": {},
   "outputs": [],
   "source": [
    "# store coordinates for Pacific Beach, California\n",
    "# MY_LAT = '32.802353' # North\n",
    "# MY_LONG = '-117.241676' # West"
   ]
  },
  {
   "cell_type": "code",
   "execution_count": 116,
   "metadata": {},
   "outputs": [],
   "source": [
    "# sunrise_sunset_url = 'https://api.sunrise-sunset.org/json'\n",
    "\n",
    "# # set parameters for ths sunrise-sunset api\n",
    "# parameters = {\n",
    "#     'lat': MY_LAT,\n",
    "#     'lng': MY_LONG,\n",
    "#     'formatted': 0,\n",
    "# }\n",
    "\n",
    "# sun_response = requests.get(url=sunrise_sunset_url, params=parameters)\n",
    "# print(f'API CONNECTION STATUS CODE: {sun_response.status_code}')\n",
    "\n",
    "# sun_data = sun_response.json()\n",
    "# print(sun_data)"
   ]
  },
  {
   "cell_type": "code",
   "execution_count": 117,
   "metadata": {},
   "outputs": [],
   "source": [
    "# # sunrise = int(sun_data[\"results\"][\"sunrise\"].split('T')[1].split(':')[0])\n",
    "# # sunset = int(sun_data[\"results\"][\"sunset\"].split('T')[1].split(':')[0])\n",
    "\n",
    "# sunrise = sun_data[\"results\"][\"sunrise\"]\n",
    "# sunset = sun_data[\"results\"][\"sunset\"]\n",
    "\n",
    "# print(f'{sunrise}\\n {sunset}')"
   ]
  },
  {
   "cell_type": "code",
   "execution_count": 118,
   "metadata": {},
   "outputs": [],
   "source": [
    "# adjust time to reflect current time zone"
   ]
  }
 ],
 "metadata": {
  "kernelspec": {
   "display_name": "space_venv",
   "language": "python",
   "name": "python3"
  },
  "language_info": {
   "codemirror_mode": {
    "name": "ipython",
    "version": 3
   },
   "file_extension": ".py",
   "mimetype": "text/x-python",
   "name": "python",
   "nbconvert_exporter": "python",
   "pygments_lexer": "ipython3",
   "version": "3.11.1"
  },
  "orig_nbformat": 4,
  "vscode": {
   "interpreter": {
    "hash": "ddbd1b0ffa3789345d38f208869ae6315a975344c125fd2df25b0871f653b25d"
   }
  }
 },
 "nbformat": 4,
 "nbformat_minor": 2
}
