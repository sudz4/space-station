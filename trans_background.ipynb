{
 "cells": [
  {
   "cell_type": "code",
   "execution_count": 1,
   "metadata": {},
   "outputs": [],
   "source": [
    "# remove the white background and make images transparent\n",
    "from PIL import Image\n",
    "\n",
    "# Load the first image\n",
    "img1 = Image.open(\"iss_green_now.png\")\n",
    "\n",
    "# Remove the white background\n",
    "img1 = img1.convert(\"RGBA\")\n",
    "datas = img1.getdata()\n",
    "\n",
    "new_data = []\n",
    "for item in datas:\n",
    "    if item[0] == 255 and item[1] == 255 and item[2] == 255:\n",
    "        new_data.append((255, 255, 255, 0))\n",
    "    else:\n",
    "        new_data.append(item)\n",
    "\n",
    "img1.putdata(new_data)\n",
    "\n",
    "# Save the modified image\n",
    "img1.save(\"iss_t_green_now.png\")\n",
    "\n",
    "# Load the second image\n",
    "img2 = Image.open(\"iss_purple_previous.png\")\n",
    "\n",
    "# Remove the white background\n",
    "img2 = img2.convert(\"RGBA\")\n",
    "datas = img2.getdata()\n",
    "\n",
    "new_data = []\n",
    "for item in datas:\n",
    "    if item[0] == 255 and item[1] == 255 and item[2] == 255:\n",
    "        new_data.append((255, 255, 255, 0))\n",
    "    else:\n",
    "        new_data.append(item)\n",
    "\n",
    "img2.putdata(new_data)\n",
    "\n",
    "# Save the modified image\n",
    "img2.save(\"iss_t_purple_previous.png\")\n"
   ]
  },
  {
   "cell_type": "code",
   "execution_count": 2,
   "metadata": {},
   "outputs": [
    {
     "name": "stdout",
     "output_type": "stream",
     "text": [
      "The white background was successfully removed and the image has transparency.\n"
     ]
    }
   ],
   "source": [
    "# check if the image has transparency\n",
    "\n",
    "# load the new image\n",
    "img = Image.open(\"iss_t_green_now.png\").convert(\"RGBA\")\n",
    "\n",
    "# Check if any pixels have an alpha value of 0 (fully transparent)\n",
    "has_transparency = False\n",
    "datas = img.getdata()\n",
    "for item in datas:\n",
    "    if item[3] == 0:\n",
    "        has_transparency = True\n",
    "        break\n",
    "\n",
    "if has_transparency:\n",
    "    print(\"The white background was successfully removed and the image has transparency.\")\n",
    "else:\n",
    "    print(\"The white background was NOT removed or the image does not have transparency.\")\n"
   ]
  },
  {
   "cell_type": "code",
   "execution_count": 3,
   "metadata": {},
   "outputs": [
    {
     "name": "stdout",
     "output_type": "stream",
     "text": [
      "The white background was successfully removed and the image has transparency.\n"
     ]
    }
   ],
   "source": [
    "# check if the image has transparency\n",
    "\n",
    "# load the new image\n",
    "img = Image.open(\"iss_t_purple_previous.png\").convert(\"RGBA\")\n",
    "\n",
    "# Check if any pixels have an alpha value of 0 (fully transparent)\n",
    "has_transparency = False\n",
    "datas = img.getdata()\n",
    "for item in datas:\n",
    "    if item[3] == 0:\n",
    "        has_transparency = True\n",
    "        break\n",
    "\n",
    "if has_transparency:\n",
    "    print(\"The white background was successfully removed and the image has transparency.\")\n",
    "else:\n",
    "    print(\"The white background was NOT removed or the image does not have transparency.\")\n"
   ]
  },
  {
   "cell_type": "code",
   "execution_count": 5,
   "metadata": {},
   "outputs": [
    {
     "name": "stdout",
     "output_type": "stream",
     "text": [
      "The white background was NOT removed or the image does not have transparency.\n"
     ]
    }
   ],
   "source": [
    "# check if the image has transparency\n",
    "\n",
    "# load the new image\n",
    "img = Image.open(\"iss_purple_previous.png\").convert(\"RGBA\")\n",
    "\n",
    "# Check if any pixels have an alpha value of 0 (fully transparent)\n",
    "has_transparency = False\n",
    "datas = img.getdata()\n",
    "for item in datas:\n",
    "    if item[3] == 0:\n",
    "        has_transparency = True\n",
    "        break\n",
    "\n",
    "if has_transparency:\n",
    "    print(\"The white background was successfully removed and the image has transparency.\")\n",
    "else:\n",
    "    print(\"The white background was NOT removed or the image does not have transparency.\")\n"
   ]
  },
  {
   "cell_type": "code",
   "execution_count": null,
   "metadata": {},
   "outputs": [],
   "source": []
  }
 ],
 "metadata": {
  "kernelspec": {
   "display_name": "space_venv",
   "language": "python",
   "name": "python3"
  },
  "language_info": {
   "codemirror_mode": {
    "name": "ipython",
    "version": 3
   },
   "file_extension": ".py",
   "mimetype": "text/x-python",
   "name": "python",
   "nbconvert_exporter": "python",
   "pygments_lexer": "ipython3",
   "version": "3.11.1"
  },
  "orig_nbformat": 4
 },
 "nbformat": 4,
 "nbformat_minor": 2
}
