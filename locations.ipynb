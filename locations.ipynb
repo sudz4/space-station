{
 "cells": [
  {
   "attachments": {},
   "cell_type": "markdown",
   "metadata": {},
   "source": [
    "| Locations | Important Locations  |\n",
    "| ----------- | ----------- |\n",
    "| General Testing | & Code Snippets |"
   ]
  },
  {
   "cell_type": "code",
   "execution_count": 3,
   "metadata": {},
   "outputs": [
    {
     "name": "stdout",
     "output_type": "stream",
     "text": [
      "Latitude: 38.897699700000004\n",
      "Longitude: -77.03655315\n"
     ]
    }
   ],
   "source": [
    "\"\"\"get the white house lat long coords\"\"\"\n",
    "\n",
    "from geopy.geocoders import Nominatim\n",
    "\n",
    "# Create a geolocator object\n",
    "geolocator = Nominatim(user_agent=\"my_app\")\n",
    "\n",
    "# Define the address to lookup\n",
    "address = \"1600 Pennsylvania Ave NW, Washington, DC 20500, United States\"\n",
    "\n",
    "# Use the geolocator to find the latitude and longitude for the address\n",
    "location = geolocator.geocode(address)\n",
    "\n",
    "loc_lat = location.latitude\n",
    "loc_long = location.longitude\n",
    "\n",
    "# Print the latitude and longitude\n",
    "print(\"Latitude:\", loc_lat)\n",
    "print(\"Longitude:\", loc_long)"
   ]
  },
  {
   "cell_type": "code",
   "execution_count": null,
   "metadata": {},
   "outputs": [],
   "source": []
  }
 ],
 "metadata": {
  "kernelspec": {
   "display_name": "space_venv",
   "language": "python",
   "name": "python3"
  },
  "language_info": {
   "codemirror_mode": {
    "name": "ipython",
    "version": 3
   },
   "file_extension": ".py",
   "mimetype": "text/x-python",
   "name": "python",
   "nbconvert_exporter": "python",
   "pygments_lexer": "ipython3",
   "version": "3.11.1"
  },
  "orig_nbformat": 4
 },
 "nbformat": 4,
 "nbformat_minor": 2
}
