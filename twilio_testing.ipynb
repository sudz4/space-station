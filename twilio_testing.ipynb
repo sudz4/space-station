{
 "cells": [
  {
   "attachments": {},
   "cell_type": "markdown",
   "metadata": {},
   "source": [
    "| Twilio | Testing for ISS SMS text notification  |\n",
    "| ----------- | ----------- |\n",
    "| Date | FEB 2023 |"
   ]
  },
  {
   "cell_type": "code",
   "execution_count": 26,
   "metadata": {},
   "outputs": [],
   "source": [
    "# libraries\n",
    "from twilio.rest import Client\n",
    "\n",
    "# keys\n",
    "import twilio_keys\n",
    "from twilio_keys import account_sid, auth_token"
   ]
  },
  {
   "cell_type": "code",
   "execution_count": null,
   "metadata": {},
   "outputs": [],
   "source": [
    "# intialize the client\n",
    "client = Client(account_sid, auth_token)"
   ]
  },
  {
   "cell_type": "code",
   "execution_count": null,
   "metadata": {},
   "outputs": [],
   "source": [
    "# test message\n",
    "message = 'hey brother is this thing on?'\n",
    "\n",
    "# phone numbers\n",
    "twilio_number = '+18556438915' # my twilio number\n",
    "target_number = '' # target number to send message\n",
    "\n",
    "# execute message send\n",
    "message = Client.messages.create(\n",
    "    body=message,\n",
    "    from_=twilio_number,\n",
    "    to=target_number\n",
    ")\n",
    "\n",
    "print(f'Message sent: {message.sid}')\n"
   ]
  },
  {
   "cell_type": "code",
   "execution_count": null,
   "metadata": {},
   "outputs": [],
   "source": []
  },
  {
   "cell_type": "code",
   "execution_count": null,
   "metadata": {},
   "outputs": [],
   "source": []
  }
 ],
 "metadata": {
  "kernelspec": {
   "display_name": "Python 3",
   "language": "python",
   "name": "python3"
  },
  "language_info": {
   "codemirror_mode": {
    "name": "ipython",
    "version": 3
   },
   "file_extension": ".py",
   "mimetype": "text/x-python",
   "name": "python",
   "nbconvert_exporter": "python",
   "pygments_lexer": "ipython3",
   "version": "3.11.1"
  },
  "orig_nbformat": 4,
  "vscode": {
   "interpreter": {
    "hash": "aee8b7b246df8f9039afb4144a1f6fd8d2ca17a180786b69acc140d282b71a49"
   }
  }
 },
 "nbformat": 4,
 "nbformat_minor": 2
}
