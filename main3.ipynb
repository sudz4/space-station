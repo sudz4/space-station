{
 "cells": [
  {
   "attachments": {},
   "cell_type": "markdown",
   "metadata": {},
   "source": [
    "| ISS Tracker | International Space Station Tracker  |\n",
    "| ----------- | ----------- |\n",
    "| ISS API url | http://api.open-notify.org/ |"
   ]
  },
  {
   "cell_type": "code",
   "execution_count": 4,
   "metadata": {},
   "outputs": [],
   "source": [
    "# libraries\n",
    "import requests\n",
    "import pandas as pd"
   ]
  },
  {
   "cell_type": "code",
   "execution_count": null,
   "metadata": {},
   "outputs": [],
   "source": [
    "\"\"\"GET names of astros on-board the ISS\"\"\"\n",
    "\n",
    "# r = requests.get(url='http://api.open-notify.org/astros.json')\n",
    "# r.json()\n",
    "\n",
    "# determine the astronaughts, cosmonaughts, etc. that are currently onboard the ISS\n",
    "astros_url = 'http://api.open-notify.org/astros.json'\n",
    "astros_response = requests.get(astros_url)\n",
    "astros_data = astros_response.json()\n",
    "# print(astros_data)\n",
    "\n",
    "# print the astros that are onboard the ISS craft\n",
    "print(\"Number of people currently aboard the ISS:\", astros_data['number'])\n",
    "print(\"\\nNames of people aboard the ISS:\")\n",
    "\n",
    "for i in astros_data['people']:\n",
    "    print(i['name'])"
   ]
  },
  {
   "cell_type": "code",
   "execution_count": 11,
   "metadata": {},
   "outputs": [
    {
     "name": "stdout",
     "output_type": "stream",
     "text": [
      "Timestamp: 1678845817\n",
      "\n",
      "Current ISS Location:\n",
      "Latitude: -15.6736\n",
      "Longitude: 64.2059\n"
     ]
    }
   ],
   "source": [
    "\"\"\"GET the current location of the ISS\"\"\"\n",
    "\n",
    "# send a GET request to the ISS API endpoint\n",
    "iss_loc_response = requests.get(\"http://api.open-notify.org/iss-now.json\")\n",
    "iss_loc_data = (iss_loc_response.json())\n",
    "# print the API parameters\n",
    "# print(iss_loc_data)\n",
    "\n",
    "# extract the latitude and longitude for the current location of the ISS\n",
    "time_stamp = iss_loc_data['timestamp']\n",
    "iss_lat = float(iss_loc_data['iss_position']['latitude']) # also, converts lat string to float\n",
    "iss_long = float(iss_loc_data['iss_position']['longitude']) # also, converts long string to float\n",
    "\n",
    "# print the current latitude and longitude for the ISS\n",
    "print(f\"Timestamp: {time_stamp}\")\n",
    "print()\n",
    "print(\"Current ISS Location:\")\n",
    "print(f\"Latitude: {iss_lat}\")\n",
    "print(f\"Longitude: {iss_long}\")"
   ]
  },
  {
   "cell_type": "code",
   "execution_count": null,
   "metadata": {},
   "outputs": [],
   "source": []
  }
 ],
 "metadata": {
  "kernelspec": {
   "display_name": "space_venv",
   "language": "python",
   "name": "python3"
  },
  "language_info": {
   "codemirror_mode": {
    "name": "ipython",
    "version": 3
   },
   "file_extension": ".py",
   "mimetype": "text/x-python",
   "name": "python",
   "nbconvert_exporter": "python",
   "pygments_lexer": "ipython3",
   "version": "3.11.1"
  },
  "orig_nbformat": 4
 },
 "nbformat": 4,
 "nbformat_minor": 2
}
