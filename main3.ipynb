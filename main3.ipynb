{
 "cells": [
  {
   "attachments": {},
   "cell_type": "markdown",
   "metadata": {},
   "source": [
    "| ISS Tracker | International Space Station Tracker  | IMPORTANT API Endpoint Information |\n",
    "| ----------- | ----------- | ----------- |\n",
    "| ISS API url | http://api.open-notify.org/ | ISS Pass predictions are now turned off. Real time current ISS location and number of people in space will continue to operate. |"
   ]
  },
  {
   "cell_type": "code",
   "execution_count": null,
   "metadata": {},
   "outputs": [],
   "source": []
  }
 ],
 "metadata": {
  "language_info": {
   "name": "python"
  },
  "orig_nbformat": 4
 },
 "nbformat": 4,
 "nbformat_minor": 2
}
