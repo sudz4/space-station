{
 "cells": [
  {
   "attachments": {},
   "cell_type": "markdown",
   "metadata": {},
   "source": [
    "| ISS Tracker | International Space Station Tracker  | IMPORTANT API Endpoint Information |\n",
    "| ----------- | ----------- | ----------- |\n",
    "| ISS API url | http://api.open-notify.org/ | ISS Pass predictions are now turned off. Real time current ISS location and number of people in space will continue to operate. |"
   ]
  },
  {
   "cell_type": "code",
   "execution_count": 74,
   "metadata": {},
   "outputs": [],
   "source": [
    "# libraries\n",
    "import requests\n",
    "from geopy.geocoders import Nominatim\n",
    "import geocoder\n",
    "from datetime import datetime\n",
    "from datetime import timezone\n",
    "import pytz # used for granular timezone data as well as daylight savings time data\n",
    "\n",
    "from astropy.coordinates import EarthLocation, AltAz, get_sun, SkyCoord\n",
    "from astropy.time import Time\n",
    "from astropy import units as u\n",
    "\n",
    "# config file(s) import\n",
    "# from config import IP_GEOLOCATION_API_KEY # IMPORTANT - KNOWN ERROR - Quit VS if you adjust this"
   ]
  },
  {
   "cell_type": "code",
   "execution_count": 75,
   "metadata": {},
   "outputs": [
    {
     "name": "stdout",
     "output_type": "stream",
     "text": [
      "{'timestamp': 1676501932, 'iss_position': {'longitude': '62.2526', 'latitude': '-19.5523'}, 'message': 'success'}\n"
     ]
    }
   ],
   "source": [
    "\"\"\"Get the current location of the ISS\"\"\"\n",
    "# send a GET request to the ISS API endpoint\n",
    "iss_loc_response = requests.get(\"http://api.open-notify.org/iss-now.json\")\n",
    "iss_loc_data = iss_loc_response.json()\n",
    "\n",
    "# print the API parameters\n",
    "print(iss_loc_data)"
   ]
  },
  {
   "cell_type": "code",
   "execution_count": 76,
   "metadata": {},
   "outputs": [
    {
     "name": "stdout",
     "output_type": "stream",
     "text": [
      "Current ISS Location:\n",
      "Latitude: -19.5523\n",
      "Longitude: 62.2526\n"
     ]
    }
   ],
   "source": [
    "# extract the latitude and longitude for the current location of the ISS\n",
    "iss_latitude = float(iss_loc_data['iss_position']['latitude']) # also, converts lat string to float\n",
    "iss_longitude = float(iss_loc_data['iss_position']['longitude']) # also, converts long string to float\n",
    "\n",
    "# print the current latitude and longitude for the ISS\n",
    "print(\"Current ISS Location:\")\n",
    "print(f\"Latitude: {iss_latitude}\")\n",
    "print(f\"Longitude: {iss_longitude}\")"
   ]
  },
  {
   "cell_type": "code",
   "execution_count": 77,
   "metadata": {},
   "outputs": [
    {
     "name": "stdout",
     "output_type": "stream",
     "text": [
      "User Location: Rye, NY\n",
      "Rye, NY Latitude: 40.9808209\n",
      "Rye, NY Longitude: -73.684294\n"
     ]
    }
   ],
   "source": [
    "# get the lat and long for the user's location\n",
    "geolocator = Nominatim(user_agent=\"geoapiExercises\")\n",
    "# city = \"San Diego\"\n",
    "city = \"Rye, NY\" # cool \n",
    "location = geolocator.geocode(city)\n",
    "user_lat = location.latitude # returns a float object\n",
    "user_long = location.longitude # returns a float object\n",
    "\n",
    "# print my current location based on the city variable\n",
    "# print(location.latitude, location.longitude)\n",
    "print(f\"User Location: {city}\")\n",
    "print(f\"{city} Latitude: {user_lat}\")\n",
    "print(f\"{city} Longitude: {user_long}\")"
   ]
  },
  {
   "cell_type": "code",
   "execution_count": 88,
   "metadata": {},
   "outputs": [
    {
     "name": "stdout",
     "output_type": "stream",
     "text": [
      "Status Code: 200\n"
     ]
    }
   ],
   "source": [
    "# GET the TLE (Two Line Element) for the international space station -> we will use this later to identify the ISS\n",
    "celestrak_url = 'https://www.celestrak.com/NORAD/elements/stations.txt'\n",
    "celestrak_response = requests.get(celestrak_url)\n",
    "\n",
    "# API working check\n",
    "if celestrak_response.status_code == 200:\n",
    "    print(\"Status Code: 200\")\n",
    "else:\n",
    "    print(\"API Error\")\n",
    "\n",
    "# the TLE data can be accessed from celestrak_response.content\n",
    "# print(celestrak_response.content)"
   ]
  },
  {
   "cell_type": "code",
   "execution_count": 93,
   "metadata": {},
   "outputs": [
    {
     "name": "stdout",
     "output_type": "stream",
     "text": [
      "TLE Data For The ISS\n",
      "\n",
      "ISS (ZARYA)             \n",
      "1 25544U 98067A   23047.15298611  .00022214  00000+0  39448-3 0  9990\n",
      "2 25544  51.6399 208.0318 0009249 355.0534 351.0845 15.50079208383014\n"
     ]
    }
   ],
   "source": [
    "# split response into individual lines\n",
    "lines = celestrak_response.text.splitlines()\n",
    "# print(lines)\n",
    "\n",
    "# find the line that contains the response for the ISS TLE data\n",
    "for i in range(0, len(lines), 3):\n",
    "    if lines[i].startswith('ISS'):\n",
    "        tle0 = lines[i]\n",
    "        tle1 = lines[i+1]\n",
    "        tle2 = lines[i+2]\n",
    "        break\n",
    "\n",
    "# print TLE data for the ISS\n",
    "print('TLE Data For The ISS')\n",
    "print()\n",
    "print(tle0)\n",
    "print(tle1)\n",
    "print(tle2)\n"
   ]
  },
  {
   "cell_type": "code",
   "execution_count": null,
   "metadata": {},
   "outputs": [],
   "source": []
  },
  {
   "cell_type": "code",
   "execution_count": null,
   "metadata": {},
   "outputs": [],
   "source": []
  },
  {
   "cell_type": "code",
   "execution_count": null,
   "metadata": {},
   "outputs": [],
   "source": []
  },
  {
   "cell_type": "code",
   "execution_count": null,
   "metadata": {},
   "outputs": [],
   "source": []
  },
  {
   "cell_type": "code",
   "execution_count": 73,
   "metadata": {},
   "outputs": [
    {
     "name": "stdout",
     "output_type": "stream",
     "text": [
      "Number of people currently aboard the ISS: 10\n",
      "\n",
      "Names of people aboard the ISS:\n",
      "Sergey Prokopyev\n",
      "Dmitry Petelin\n",
      "Frank Rubio\n",
      "Nicole Mann\n",
      "Josh Cassada\n",
      "Koichi Wakata\n",
      "Anna Kikina\n",
      "Fei Junlong\n",
      "Deng Qingming\n",
      "Zhang Lu\n"
     ]
    }
   ],
   "source": [
    "# determine the astronaughts, cosmonaughts, etc. that are currently onboard the ISS\n",
    "astros_url = 'http://api.open-notify.org/astros.json'\n",
    "astros_response = requests.get(astros_url)\n",
    "astros_data = astros_response.json()\n",
    "# print(astros_data)\n",
    "\n",
    "# print the astros that are onboard the ISS craft\n",
    "print(\"Number of people currently aboard the ISS:\", astros_data['number'])\n",
    "print(\"\\nNames of people aboard the ISS:\")\n",
    "\n",
    "for i in astros_data['people']:\n",
    "    print(i['name'])"
   ]
  },
  {
   "cell_type": "code",
   "execution_count": 71,
   "metadata": {},
   "outputs": [
    {
     "name": "stdout",
     "output_type": "stream",
     "text": [
      "Rye City Hall, 1051, Boston Post Road, City of Rye, Westchester County, New York, 10580, United States\n"
     ]
    }
   ],
   "source": [
    "# determine an approximate location relative to my exact location\n",
    "approx_geolocator = Nominatim(user_agent=\"my-app\")\n",
    "approx_user_location = approx_geolocator.reverse(f\"{user_lat}, {user_long}\")\n",
    "\n",
    "# print approximate user location\n",
    "print(approx_user_location.address) "
   ]
  },
  {
   "cell_type": "code",
   "execution_count": null,
   "metadata": {},
   "outputs": [],
   "source": []
  },
  {
   "cell_type": "code",
   "execution_count": null,
   "metadata": {},
   "outputs": [],
   "source": []
  },
  {
   "cell_type": "code",
   "execution_count": null,
   "metadata": {},
   "outputs": [],
   "source": []
  },
  {
   "cell_type": "code",
   "execution_count": null,
   "metadata": {},
   "outputs": [],
   "source": []
  },
  {
   "cell_type": "code",
   "execution_count": null,
   "metadata": {},
   "outputs": [],
   "source": []
  },
  {
   "cell_type": "code",
   "execution_count": null,
   "metadata": {},
   "outputs": [],
   "source": []
  },
  {
   "cell_type": "code",
   "execution_count": null,
   "metadata": {},
   "outputs": [],
   "source": []
  },
  {
   "cell_type": "code",
   "execution_count": null,
   "metadata": {},
   "outputs": [],
   "source": []
  },
  {
   "attachments": {},
   "cell_type": "markdown",
   "metadata": {},
   "source": [
    "| ISS Information | General |\n",
    "| ----------- | ----------- |\n",
    "\n",
    "* 90 minutes to complete 1 rotation around the earth\n",
    "* The distance at which the ISS is visible from the ground depends on various factors such as the altitude of the ISS, the brightness of the ISS, the lighting conditions, and the weather conditions. Generally, the ISS is visible from the ground at a maximum distance of around 2,000 kilometers (1,200 miles) under ideal viewing conditions.\n",
    "* The ISS is in low-earth orbit, so it won't maintain a specific ground-track along the earth.\n",
    "* Technically speaking, the ISS is both a satellite and a spacecraft, but it is not a conventional satellite in the sense that it was not designed to orbit the Earth on its own.\n",
    "    * Therefore, while the ISS does technically qualify as a satellite, it is more commonly referred to as a spacecraft or space station to differentiate it from other types of satellites.\n",
    "* TLE stands for \"Two-Line Element\" and it is a data format used to describe the orbit of a satellite. \n",
    "    * The TLE format was developed by the United States Department of Defense to describe the orbits of objects in Earth orbit, such as satellites and space debris.\n",
    "    * Computer programs used to track satellites take into account factors such as the Earth's rotation, gravitational forces, and atmospheric drag to predict the satellite's location and movement over time.\n",
    "\n",
    "| ISS Important Variables |\n",
    "| ----------- |\n",
    "1. TIME - is when the sighting opportunity will begin in your local time zone. All sightings will occur within a few hours before or after sunrise or sunset. This is the optimum viewing period as the sun reflects off the space station and contrasts against the darker sky.\n",
    "\n",
    "2. VISIBLE - is the maximum time period the space station is visible before crossing back below the horizon.\n",
    "\n",
    "3. MAX_HEIGHT - is measured in degrees (also known as elevation). It represents the height of the space station from the horizon in the night sky. The horizon is at zero degrees, and directly overhead is ninety degrees. If you hold your fist at arm's length and place your fist resting on the horizon, the top will be about 10 degrees.\n",
    "\n",
    "4. APPEARS - is the location in the sky where the station will be visible first. This value, like maximum height, also is measured in degrees from the horizon. The letters represent compass directions -- N is north, WNW is west by northwest, and so on.\n",
    "\n",
    "5. DISSAPEARS - represents where in the night sky the International Space Station will leave your field of view.\n",
    "\n",
    "| Coding Considerations / Planning & Ideas |\n",
    "| ----------- |\n",
    "* XXX\n",
    "* XXX\n",
    "\n"
   ]
  },
  {
   "attachments": {},
   "cell_type": "markdown",
   "metadata": {},
   "source": [
    "| END OF PROGRAM | \n",
    "| ----------- |"
   ]
  },
  {
   "cell_type": "code",
   "execution_count": null,
   "metadata": {},
   "outputs": [],
   "source": [
    "from math import sin, cos, sqrt, atan2, radians\n",
    "\n",
    "def distance(lat1, lon1, lat2, lon2):\n",
    "    R = 6371  # radius of the Earth in kilometers\n",
    "    lat1, lon1, lat2, lon2 = map(radians, [lat1, lon1, lat2, lon2])\n",
    "    dlat = lat2 - lat1\n",
    "    dlon = lon2 - lon1"
   ]
  },
  {
   "cell_type": "code",
   "execution_count": null,
   "metadata": {},
   "outputs": [
    {
     "name": "stdout",
     "output_type": "stream",
     "text": [
      "Latitude: 41.0018\n",
      "Longitude: -73.6657\n"
     ]
    }
   ],
   "source": [
    "# get the location of my ip address\n",
    "g = geocoder.ip('me')\n",
    "my_latitude, my_longitude = g.latlng\n",
    "print(\"Latitude:\", my_latitude) # float\n",
    "print(\"Longitude:\", my_longitude) # float"
   ]
  },
  {
   "cell_type": "code",
   "execution_count": null,
   "metadata": {},
   "outputs": [],
   "source": [
    "# get my location geocoded aka reverse coded address\n",
    "geolocator = Nominatim(user_agent=\"my-app\")\n",
    "my_location = geolocator.reverse(f\"{my_latitude}, {my_longitude}\")\n",
    "\n",
    "# print a location near to where I am -> close enough at least for ISS viewing\n",
    "# print(my_location.address) "
   ]
  },
  {
   "cell_type": "code",
   "execution_count": null,
   "metadata": {},
   "outputs": [],
   "source": []
  },
  {
   "cell_type": "code",
   "execution_count": null,
   "metadata": {},
   "outputs": [],
   "source": []
  },
  {
   "cell_type": "code",
   "execution_count": null,
   "metadata": {},
   "outputs": [],
   "source": []
  },
  {
   "cell_type": "code",
   "execution_count": null,
   "metadata": {},
   "outputs": [],
   "source": []
  },
  {
   "cell_type": "code",
   "execution_count": null,
   "metadata": {},
   "outputs": [
    {
     "data": {
      "text/plain": [
       "'24.188.168.62'"
      ]
     },
     "execution_count": 14,
     "metadata": {},
     "output_type": "execute_result"
    }
   ],
   "source": [
    "\"\"\"Get the latitude and longitude of the users location\"\"\"\n",
    "# get my devices public ip address\n",
    "device_public_ip_response = requests.get(\"http://icanhazip.com\")\n",
    "device_public_ip = device_public_ip_response.text.strip()\n",
    "\n",
    "# print(f\"My Public IP Address: {device_public_ip}\")\n",
    "\n",
    "device_public_ip"
   ]
  },
  {
   "cell_type": "code",
   "execution_count": null,
   "metadata": {},
   "outputs": [
    {
     "ename": "JSONDecodeError",
     "evalue": "Expecting value: line 1 column 1 (char 0)",
     "output_type": "error",
     "traceback": [
      "\u001b[0;31m---------------------------------------------------------------------------\u001b[0m",
      "\u001b[0;31mJSONDecodeError\u001b[0m                           Traceback (most recent call last)",
      "File \u001b[0;32m~/Desktop/SPACE_STATION/space_venv/lib/python3.11/site-packages/requests/models.py:971\u001b[0m, in \u001b[0;36mResponse.json\u001b[0;34m(self, **kwargs)\u001b[0m\n\u001b[1;32m    970\u001b[0m \u001b[39mtry\u001b[39;00m:\n\u001b[0;32m--> 971\u001b[0m     \u001b[39mreturn\u001b[39;00m complexjson\u001b[39m.\u001b[39;49mloads(\u001b[39mself\u001b[39;49m\u001b[39m.\u001b[39;49mtext, \u001b[39m*\u001b[39;49m\u001b[39m*\u001b[39;49mkwargs)\n\u001b[1;32m    972\u001b[0m \u001b[39mexcept\u001b[39;00m JSONDecodeError \u001b[39mas\u001b[39;00m e:\n\u001b[1;32m    973\u001b[0m     \u001b[39m# Catch JSON-related errors and raise as requests.JSONDecodeError\u001b[39;00m\n\u001b[1;32m    974\u001b[0m     \u001b[39m# This aliases json.JSONDecodeError and simplejson.JSONDecodeError\u001b[39;00m\n",
      "File \u001b[0;32m/Library/Frameworks/Python.framework/Versions/3.11/lib/python3.11/json/__init__.py:346\u001b[0m, in \u001b[0;36mloads\u001b[0;34m(s, cls, object_hook, parse_float, parse_int, parse_constant, object_pairs_hook, **kw)\u001b[0m\n\u001b[1;32m    343\u001b[0m \u001b[39mif\u001b[39;00m (\u001b[39mcls\u001b[39m \u001b[39mis\u001b[39;00m \u001b[39mNone\u001b[39;00m \u001b[39mand\u001b[39;00m object_hook \u001b[39mis\u001b[39;00m \u001b[39mNone\u001b[39;00m \u001b[39mand\u001b[39;00m\n\u001b[1;32m    344\u001b[0m         parse_int \u001b[39mis\u001b[39;00m \u001b[39mNone\u001b[39;00m \u001b[39mand\u001b[39;00m parse_float \u001b[39mis\u001b[39;00m \u001b[39mNone\u001b[39;00m \u001b[39mand\u001b[39;00m\n\u001b[1;32m    345\u001b[0m         parse_constant \u001b[39mis\u001b[39;00m \u001b[39mNone\u001b[39;00m \u001b[39mand\u001b[39;00m object_pairs_hook \u001b[39mis\u001b[39;00m \u001b[39mNone\u001b[39;00m \u001b[39mand\u001b[39;00m \u001b[39mnot\u001b[39;00m kw):\n\u001b[0;32m--> 346\u001b[0m     \u001b[39mreturn\u001b[39;00m _default_decoder\u001b[39m.\u001b[39;49mdecode(s)\n\u001b[1;32m    347\u001b[0m \u001b[39mif\u001b[39;00m \u001b[39mcls\u001b[39m \u001b[39mis\u001b[39;00m \u001b[39mNone\u001b[39;00m:\n",
      "File \u001b[0;32m/Library/Frameworks/Python.framework/Versions/3.11/lib/python3.11/json/decoder.py:337\u001b[0m, in \u001b[0;36mJSONDecoder.decode\u001b[0;34m(self, s, _w)\u001b[0m\n\u001b[1;32m    333\u001b[0m \u001b[39m\u001b[39m\u001b[39m\"\"\"Return the Python representation of ``s`` (a ``str`` instance\u001b[39;00m\n\u001b[1;32m    334\u001b[0m \u001b[39mcontaining a JSON document).\u001b[39;00m\n\u001b[1;32m    335\u001b[0m \n\u001b[1;32m    336\u001b[0m \u001b[39m\"\"\"\u001b[39;00m\n\u001b[0;32m--> 337\u001b[0m obj, end \u001b[39m=\u001b[39m \u001b[39mself\u001b[39;49m\u001b[39m.\u001b[39;49mraw_decode(s, idx\u001b[39m=\u001b[39;49m_w(s, \u001b[39m0\u001b[39;49m)\u001b[39m.\u001b[39;49mend())\n\u001b[1;32m    338\u001b[0m end \u001b[39m=\u001b[39m _w(s, end)\u001b[39m.\u001b[39mend()\n",
      "File \u001b[0;32m/Library/Frameworks/Python.framework/Versions/3.11/lib/python3.11/json/decoder.py:355\u001b[0m, in \u001b[0;36mJSONDecoder.raw_decode\u001b[0;34m(self, s, idx)\u001b[0m\n\u001b[1;32m    354\u001b[0m \u001b[39mexcept\u001b[39;00m \u001b[39mStopIteration\u001b[39;00m \u001b[39mas\u001b[39;00m err:\n\u001b[0;32m--> 355\u001b[0m     \u001b[39mraise\u001b[39;00m JSONDecodeError(\u001b[39m\"\u001b[39m\u001b[39mExpecting value\u001b[39m\u001b[39m\"\u001b[39m, s, err\u001b[39m.\u001b[39mvalue) \u001b[39mfrom\u001b[39;00m \u001b[39mNone\u001b[39m\n\u001b[1;32m    356\u001b[0m \u001b[39mreturn\u001b[39;00m obj, end\n",
      "\u001b[0;31mJSONDecodeError\u001b[0m: Expecting value: line 1 column 1 (char 0)",
      "\nDuring handling of the above exception, another exception occurred:\n",
      "\u001b[0;31mJSONDecodeError\u001b[0m                           Traceback (most recent call last)",
      "Cell \u001b[0;32mIn[15], line 2\u001b[0m\n\u001b[1;32m      1\u001b[0m response \u001b[39m=\u001b[39m requests\u001b[39m.\u001b[39mget(\u001b[39mf\u001b[39m\u001b[39m\"\u001b[39m\u001b[39mhttps://ipgeolocation.io/ipgeo?apiKey=\u001b[39m\u001b[39m{\u001b[39;00mIP_GEOLOCATION_API_KEY\u001b[39m}\u001b[39;00m\u001b[39m&ip=\u001b[39m\u001b[39m{\u001b[39;00mdevice_public_ip\u001b[39m}\u001b[39;00m\u001b[39m\"\u001b[39m)\n\u001b[0;32m----> 2\u001b[0m data \u001b[39m=\u001b[39m response\u001b[39m.\u001b[39;49mjson()\n\u001b[1;32m      4\u001b[0m \u001b[39m# latitude = data[\"latitude\"]\u001b[39;00m\n\u001b[1;32m      5\u001b[0m \u001b[39m# longitude = data[\"longitude\"]\u001b[39;00m\n\u001b[1;32m      6\u001b[0m \n\u001b[1;32m      7\u001b[0m \u001b[39m# print(f\"Latitude: {latitude}\")\u001b[39;00m\n\u001b[1;32m      8\u001b[0m \u001b[39m# print(f\"Longitude: {longitude}\")\u001b[39;00m\n",
      "File \u001b[0;32m~/Desktop/SPACE_STATION/space_venv/lib/python3.11/site-packages/requests/models.py:975\u001b[0m, in \u001b[0;36mResponse.json\u001b[0;34m(self, **kwargs)\u001b[0m\n\u001b[1;32m    971\u001b[0m     \u001b[39mreturn\u001b[39;00m complexjson\u001b[39m.\u001b[39mloads(\u001b[39mself\u001b[39m\u001b[39m.\u001b[39mtext, \u001b[39m*\u001b[39m\u001b[39m*\u001b[39mkwargs)\n\u001b[1;32m    972\u001b[0m \u001b[39mexcept\u001b[39;00m JSONDecodeError \u001b[39mas\u001b[39;00m e:\n\u001b[1;32m    973\u001b[0m     \u001b[39m# Catch JSON-related errors and raise as requests.JSONDecodeError\u001b[39;00m\n\u001b[1;32m    974\u001b[0m     \u001b[39m# This aliases json.JSONDecodeError and simplejson.JSONDecodeError\u001b[39;00m\n\u001b[0;32m--> 975\u001b[0m     \u001b[39mraise\u001b[39;00m RequestsJSONDecodeError(e\u001b[39m.\u001b[39mmsg, e\u001b[39m.\u001b[39mdoc, e\u001b[39m.\u001b[39mpos)\n",
      "\u001b[0;31mJSONDecodeError\u001b[0m: Expecting value: line 1 column 1 (char 0)"
     ]
    }
   ],
   "source": [
    "response = requests.get(f\"https://ipgeolocation.io/ipgeo?apiKey={IP_GEOLOCATION_API_KEY}&ip={device_public_ip}\")\n",
    "data = response.json()\n",
    "\n",
    "# latitude = data[\"latitude\"]\n",
    "# longitude = data[\"longitude\"]\n",
    "\n",
    "# print(f\"Latitude: {latitude}\")\n",
    "# print(f\"Longitude: {longitude}\")\n"
   ]
  },
  {
   "cell_type": "code",
   "execution_count": null,
   "metadata": {},
   "outputs": [],
   "source": []
  },
  {
   "cell_type": "code",
   "execution_count": null,
   "metadata": {},
   "outputs": [],
   "source": []
  },
  {
   "cell_type": "code",
   "execution_count": null,
   "metadata": {},
   "outputs": [],
   "source": []
  },
  {
   "cell_type": "code",
   "execution_count": null,
   "metadata": {},
   "outputs": [],
   "source": []
  },
  {
   "cell_type": "code",
   "execution_count": null,
   "metadata": {},
   "outputs": [
    {
     "ename": "JSONDecodeError",
     "evalue": "Expecting value: line 1 column 1 (char 0)",
     "output_type": "error",
     "traceback": [
      "\u001b[0;31m---------------------------------------------------------------------------\u001b[0m",
      "\u001b[0;31mJSONDecodeError\u001b[0m                           Traceback (most recent call last)",
      "File \u001b[0;32m~/Desktop/SPACE_STATION/space_venv/lib/python3.11/site-packages/requests/models.py:971\u001b[0m, in \u001b[0;36mResponse.json\u001b[0;34m(self, **kwargs)\u001b[0m\n\u001b[1;32m    970\u001b[0m \u001b[39mtry\u001b[39;00m:\n\u001b[0;32m--> 971\u001b[0m     \u001b[39mreturn\u001b[39;00m complexjson\u001b[39m.\u001b[39;49mloads(\u001b[39mself\u001b[39;49m\u001b[39m.\u001b[39;49mtext, \u001b[39m*\u001b[39;49m\u001b[39m*\u001b[39;49mkwargs)\n\u001b[1;32m    972\u001b[0m \u001b[39mexcept\u001b[39;00m JSONDecodeError \u001b[39mas\u001b[39;00m e:\n\u001b[1;32m    973\u001b[0m     \u001b[39m# Catch JSON-related errors and raise as requests.JSONDecodeError\u001b[39;00m\n\u001b[1;32m    974\u001b[0m     \u001b[39m# This aliases json.JSONDecodeError and simplejson.JSONDecodeError\u001b[39;00m\n",
      "File \u001b[0;32m/Library/Frameworks/Python.framework/Versions/3.11/lib/python3.11/json/__init__.py:346\u001b[0m, in \u001b[0;36mloads\u001b[0;34m(s, cls, object_hook, parse_float, parse_int, parse_constant, object_pairs_hook, **kw)\u001b[0m\n\u001b[1;32m    343\u001b[0m \u001b[39mif\u001b[39;00m (\u001b[39mcls\u001b[39m \u001b[39mis\u001b[39;00m \u001b[39mNone\u001b[39;00m \u001b[39mand\u001b[39;00m object_hook \u001b[39mis\u001b[39;00m \u001b[39mNone\u001b[39;00m \u001b[39mand\u001b[39;00m\n\u001b[1;32m    344\u001b[0m         parse_int \u001b[39mis\u001b[39;00m \u001b[39mNone\u001b[39;00m \u001b[39mand\u001b[39;00m parse_float \u001b[39mis\u001b[39;00m \u001b[39mNone\u001b[39;00m \u001b[39mand\u001b[39;00m\n\u001b[1;32m    345\u001b[0m         parse_constant \u001b[39mis\u001b[39;00m \u001b[39mNone\u001b[39;00m \u001b[39mand\u001b[39;00m object_pairs_hook \u001b[39mis\u001b[39;00m \u001b[39mNone\u001b[39;00m \u001b[39mand\u001b[39;00m \u001b[39mnot\u001b[39;00m kw):\n\u001b[0;32m--> 346\u001b[0m     \u001b[39mreturn\u001b[39;00m _default_decoder\u001b[39m.\u001b[39;49mdecode(s)\n\u001b[1;32m    347\u001b[0m \u001b[39mif\u001b[39;00m \u001b[39mcls\u001b[39m \u001b[39mis\u001b[39;00m \u001b[39mNone\u001b[39;00m:\n",
      "File \u001b[0;32m/Library/Frameworks/Python.framework/Versions/3.11/lib/python3.11/json/decoder.py:337\u001b[0m, in \u001b[0;36mJSONDecoder.decode\u001b[0;34m(self, s, _w)\u001b[0m\n\u001b[1;32m    333\u001b[0m \u001b[39m\u001b[39m\u001b[39m\"\"\"Return the Python representation of ``s`` (a ``str`` instance\u001b[39;00m\n\u001b[1;32m    334\u001b[0m \u001b[39mcontaining a JSON document).\u001b[39;00m\n\u001b[1;32m    335\u001b[0m \n\u001b[1;32m    336\u001b[0m \u001b[39m\"\"\"\u001b[39;00m\n\u001b[0;32m--> 337\u001b[0m obj, end \u001b[39m=\u001b[39m \u001b[39mself\u001b[39;49m\u001b[39m.\u001b[39;49mraw_decode(s, idx\u001b[39m=\u001b[39;49m_w(s, \u001b[39m0\u001b[39;49m)\u001b[39m.\u001b[39;49mend())\n\u001b[1;32m    338\u001b[0m end \u001b[39m=\u001b[39m _w(s, end)\u001b[39m.\u001b[39mend()\n",
      "File \u001b[0;32m/Library/Frameworks/Python.framework/Versions/3.11/lib/python3.11/json/decoder.py:355\u001b[0m, in \u001b[0;36mJSONDecoder.raw_decode\u001b[0;34m(self, s, idx)\u001b[0m\n\u001b[1;32m    354\u001b[0m \u001b[39mexcept\u001b[39;00m \u001b[39mStopIteration\u001b[39;00m \u001b[39mas\u001b[39;00m err:\n\u001b[0;32m--> 355\u001b[0m     \u001b[39mraise\u001b[39;00m JSONDecodeError(\u001b[39m\"\u001b[39m\u001b[39mExpecting value\u001b[39m\u001b[39m\"\u001b[39m, s, err\u001b[39m.\u001b[39mvalue) \u001b[39mfrom\u001b[39;00m \u001b[39mNone\u001b[39m\n\u001b[1;32m    356\u001b[0m \u001b[39mreturn\u001b[39;00m obj, end\n",
      "\u001b[0;31mJSONDecodeError\u001b[0m: Expecting value: line 1 column 1 (char 0)",
      "\nDuring handling of the above exception, another exception occurred:\n",
      "\u001b[0;31mJSONDecodeError\u001b[0m                           Traceback (most recent call last)",
      "Cell \u001b[0;32mIn[28], line 3\u001b[0m\n\u001b[1;32m      1\u001b[0m \u001b[39m# get my location\u001b[39;00m\n\u001b[1;32m      2\u001b[0m device_loc_response \u001b[39m=\u001b[39m requests\u001b[39m.\u001b[39mget(\u001b[39mf\u001b[39m\u001b[39m\"\u001b[39m\u001b[39mhttps://ipgeolocation.io/ipgeo?apiKey=\u001b[39m\u001b[39m{\u001b[39;00mIP_GEOLOCATION_API_KEY\u001b[39m}\u001b[39;00m\u001b[39m&ip=\u001b[39m\u001b[39m'\u001b[39m\u001b[39m24.188.168.62\u001b[39m\u001b[39m'\u001b[39m\u001b[39m\"\u001b[39m)\n\u001b[0;32m----> 3\u001b[0m device_loc_data \u001b[39m=\u001b[39m device_loc_response\u001b[39m.\u001b[39;49mjson()\n",
      "File \u001b[0;32m~/Desktop/SPACE_STATION/space_venv/lib/python3.11/site-packages/requests/models.py:975\u001b[0m, in \u001b[0;36mResponse.json\u001b[0;34m(self, **kwargs)\u001b[0m\n\u001b[1;32m    971\u001b[0m     \u001b[39mreturn\u001b[39;00m complexjson\u001b[39m.\u001b[39mloads(\u001b[39mself\u001b[39m\u001b[39m.\u001b[39mtext, \u001b[39m*\u001b[39m\u001b[39m*\u001b[39mkwargs)\n\u001b[1;32m    972\u001b[0m \u001b[39mexcept\u001b[39;00m JSONDecodeError \u001b[39mas\u001b[39;00m e:\n\u001b[1;32m    973\u001b[0m     \u001b[39m# Catch JSON-related errors and raise as requests.JSONDecodeError\u001b[39;00m\n\u001b[1;32m    974\u001b[0m     \u001b[39m# This aliases json.JSONDecodeError and simplejson.JSONDecodeError\u001b[39;00m\n\u001b[0;32m--> 975\u001b[0m     \u001b[39mraise\u001b[39;00m RequestsJSONDecodeError(e\u001b[39m.\u001b[39mmsg, e\u001b[39m.\u001b[39mdoc, e\u001b[39m.\u001b[39mpos)\n",
      "\u001b[0;31mJSONDecodeError\u001b[0m: Expecting value: line 1 column 1 (char 0)"
     ]
    }
   ],
   "source": [
    "# get my location\n",
    "device_loc_response = requests.get(f\"https://ipgeolocation.io/ipgeo?apiKey={IP_GEOLOCATION_API_KEY}&ip='24.188.168.62'\")\n",
    "device_loc_data = device_loc_response.json()"
   ]
  },
  {
   "cell_type": "code",
   "execution_count": null,
   "metadata": {},
   "outputs": [],
   "source": []
  },
  {
   "cell_type": "code",
   "execution_count": null,
   "metadata": {},
   "outputs": [],
   "source": []
  },
  {
   "cell_type": "code",
   "execution_count": null,
   "metadata": {},
   "outputs": [],
   "source": []
  },
  {
   "cell_type": "code",
   "execution_count": null,
   "metadata": {},
   "outputs": [],
   "source": []
  },
  {
   "cell_type": "code",
   "execution_count": null,
   "metadata": {},
   "outputs": [
    {
     "name": "stdout",
     "output_type": "stream",
     "text": [
      "-45.8932\n",
      "14.2831\n"
     ]
    }
   ],
   "source": [
    "# convert lat/long strings to float objects\n",
    "iss_latitude_float = float(iss_latitude_string)\n",
    "iss_longitude_float = float(iss_longitude_string)\n",
    "\n",
    "# print lat/long as float objects\n",
    "print(iss_latitude_float)\n",
    "print(iss_longitude_float)"
   ]
  },
  {
   "cell_type": "code",
   "execution_count": null,
   "metadata": {},
   "outputs": [
    {
     "ename": "JSONDecodeError",
     "evalue": "Expecting value: line 1 column 1 (char 0)",
     "output_type": "error",
     "traceback": [
      "\u001b[0;31m---------------------------------------------------------------------------\u001b[0m",
      "\u001b[0;31mJSONDecodeError\u001b[0m                           Traceback (most recent call last)",
      "File \u001b[0;32m~/Desktop/SPACE_STATION/space_venv/lib/python3.11/site-packages/requests/models.py:971\u001b[0m, in \u001b[0;36mResponse.json\u001b[0;34m(self, **kwargs)\u001b[0m\n\u001b[1;32m    970\u001b[0m \u001b[39mtry\u001b[39;00m:\n\u001b[0;32m--> 971\u001b[0m     \u001b[39mreturn\u001b[39;00m complexjson\u001b[39m.\u001b[39;49mloads(\u001b[39mself\u001b[39;49m\u001b[39m.\u001b[39;49mtext, \u001b[39m*\u001b[39;49m\u001b[39m*\u001b[39;49mkwargs)\n\u001b[1;32m    972\u001b[0m \u001b[39mexcept\u001b[39;00m JSONDecodeError \u001b[39mas\u001b[39;00m e:\n\u001b[1;32m    973\u001b[0m     \u001b[39m# Catch JSON-related errors and raise as requests.JSONDecodeError\u001b[39;00m\n\u001b[1;32m    974\u001b[0m     \u001b[39m# This aliases json.JSONDecodeError and simplejson.JSONDecodeError\u001b[39;00m\n",
      "File \u001b[0;32m/Library/Frameworks/Python.framework/Versions/3.11/lib/python3.11/json/__init__.py:346\u001b[0m, in \u001b[0;36mloads\u001b[0;34m(s, cls, object_hook, parse_float, parse_int, parse_constant, object_pairs_hook, **kw)\u001b[0m\n\u001b[1;32m    343\u001b[0m \u001b[39mif\u001b[39;00m (\u001b[39mcls\u001b[39m \u001b[39mis\u001b[39;00m \u001b[39mNone\u001b[39;00m \u001b[39mand\u001b[39;00m object_hook \u001b[39mis\u001b[39;00m \u001b[39mNone\u001b[39;00m \u001b[39mand\u001b[39;00m\n\u001b[1;32m    344\u001b[0m         parse_int \u001b[39mis\u001b[39;00m \u001b[39mNone\u001b[39;00m \u001b[39mand\u001b[39;00m parse_float \u001b[39mis\u001b[39;00m \u001b[39mNone\u001b[39;00m \u001b[39mand\u001b[39;00m\n\u001b[1;32m    345\u001b[0m         parse_constant \u001b[39mis\u001b[39;00m \u001b[39mNone\u001b[39;00m \u001b[39mand\u001b[39;00m object_pairs_hook \u001b[39mis\u001b[39;00m \u001b[39mNone\u001b[39;00m \u001b[39mand\u001b[39;00m \u001b[39mnot\u001b[39;00m kw):\n\u001b[0;32m--> 346\u001b[0m     \u001b[39mreturn\u001b[39;00m _default_decoder\u001b[39m.\u001b[39;49mdecode(s)\n\u001b[1;32m    347\u001b[0m \u001b[39mif\u001b[39;00m \u001b[39mcls\u001b[39m \u001b[39mis\u001b[39;00m \u001b[39mNone\u001b[39;00m:\n",
      "File \u001b[0;32m/Library/Frameworks/Python.framework/Versions/3.11/lib/python3.11/json/decoder.py:337\u001b[0m, in \u001b[0;36mJSONDecoder.decode\u001b[0;34m(self, s, _w)\u001b[0m\n\u001b[1;32m    333\u001b[0m \u001b[39m\u001b[39m\u001b[39m\"\"\"Return the Python representation of ``s`` (a ``str`` instance\u001b[39;00m\n\u001b[1;32m    334\u001b[0m \u001b[39mcontaining a JSON document).\u001b[39;00m\n\u001b[1;32m    335\u001b[0m \n\u001b[1;32m    336\u001b[0m \u001b[39m\"\"\"\u001b[39;00m\n\u001b[0;32m--> 337\u001b[0m obj, end \u001b[39m=\u001b[39m \u001b[39mself\u001b[39;49m\u001b[39m.\u001b[39;49mraw_decode(s, idx\u001b[39m=\u001b[39;49m_w(s, \u001b[39m0\u001b[39;49m)\u001b[39m.\u001b[39;49mend())\n\u001b[1;32m    338\u001b[0m end \u001b[39m=\u001b[39m _w(s, end)\u001b[39m.\u001b[39mend()\n",
      "File \u001b[0;32m/Library/Frameworks/Python.framework/Versions/3.11/lib/python3.11/json/decoder.py:355\u001b[0m, in \u001b[0;36mJSONDecoder.raw_decode\u001b[0;34m(self, s, idx)\u001b[0m\n\u001b[1;32m    354\u001b[0m \u001b[39mexcept\u001b[39;00m \u001b[39mStopIteration\u001b[39;00m \u001b[39mas\u001b[39;00m err:\n\u001b[0;32m--> 355\u001b[0m     \u001b[39mraise\u001b[39;00m JSONDecodeError(\u001b[39m\"\u001b[39m\u001b[39mExpecting value\u001b[39m\u001b[39m\"\u001b[39m, s, err\u001b[39m.\u001b[39mvalue) \u001b[39mfrom\u001b[39;00m \u001b[39mNone\u001b[39m\n\u001b[1;32m    356\u001b[0m \u001b[39mreturn\u001b[39;00m obj, end\n",
      "\u001b[0;31mJSONDecodeError\u001b[0m: Expecting value: line 1 column 1 (char 0)",
      "\nDuring handling of the above exception, another exception occurred:\n",
      "\u001b[0;31mJSONDecodeError\u001b[0m                           Traceback (most recent call last)",
      "Cell \u001b[0;32mIn[21], line 6\u001b[0m\n\u001b[1;32m      3\u001b[0m ip_address \u001b[39m=\u001b[39m \u001b[39m\"\u001b[39m\u001b[39m8.8.8.8\u001b[39m\u001b[39m\"\u001b[39m\n\u001b[1;32m      5\u001b[0m response \u001b[39m=\u001b[39m requests\u001b[39m.\u001b[39mget(\u001b[39mf\u001b[39m\u001b[39m\"\u001b[39m\u001b[39mhttps://ipgeolocation.io/ipgeo?apiKey=\u001b[39m\u001b[39m{\u001b[39;00mIP_GEOLOCATION_API_KEY\u001b[39m}\u001b[39;00m\u001b[39m&ip=\u001b[39m\u001b[39m{\u001b[39;00mip_address\u001b[39m}\u001b[39;00m\u001b[39m\"\u001b[39m)\n\u001b[0;32m----> 6\u001b[0m data \u001b[39m=\u001b[39m response\u001b[39m.\u001b[39;49mjson()\n\u001b[1;32m      8\u001b[0m latitude \u001b[39m=\u001b[39m data[\u001b[39m\"\u001b[39m\u001b[39mlatitude\u001b[39m\u001b[39m\"\u001b[39m]\n\u001b[1;32m      9\u001b[0m longitude \u001b[39m=\u001b[39m data[\u001b[39m\"\u001b[39m\u001b[39mlongitude\u001b[39m\u001b[39m\"\u001b[39m]\n",
      "File \u001b[0;32m~/Desktop/SPACE_STATION/space_venv/lib/python3.11/site-packages/requests/models.py:975\u001b[0m, in \u001b[0;36mResponse.json\u001b[0;34m(self, **kwargs)\u001b[0m\n\u001b[1;32m    971\u001b[0m     \u001b[39mreturn\u001b[39;00m complexjson\u001b[39m.\u001b[39mloads(\u001b[39mself\u001b[39m\u001b[39m.\u001b[39mtext, \u001b[39m*\u001b[39m\u001b[39m*\u001b[39mkwargs)\n\u001b[1;32m    972\u001b[0m \u001b[39mexcept\u001b[39;00m JSONDecodeError \u001b[39mas\u001b[39;00m e:\n\u001b[1;32m    973\u001b[0m     \u001b[39m# Catch JSON-related errors and raise as requests.JSONDecodeError\u001b[39;00m\n\u001b[1;32m    974\u001b[0m     \u001b[39m# This aliases json.JSONDecodeError and simplejson.JSONDecodeError\u001b[39;00m\n\u001b[0;32m--> 975\u001b[0m     \u001b[39mraise\u001b[39;00m RequestsJSONDecodeError(e\u001b[39m.\u001b[39mmsg, e\u001b[39m.\u001b[39mdoc, e\u001b[39m.\u001b[39mpos)\n",
      "\u001b[0;31mJSONDecodeError\u001b[0m: Expecting value: line 1 column 1 (char 0)"
     ]
    }
   ],
   "source": [
    "\"\"\"Get the latitude and longitude of the users location\"\"\"\n",
    "\n",
    "ip_address = \"8.8.8.8\"\n",
    "\n",
    "response = requests.get(f\"https://ipgeolocation.io/ipgeo?apiKey={IP_GEOLOCATION_API_KEY}&ip={ip_address}\")\n",
    "data = response.json()\n",
    "\n",
    "latitude = data[\"latitude\"]\n",
    "longitude = data[\"longitude\"]\n",
    "\n",
    "print(f\"Latitude: {latitude}\")\n",
    "print(f\"Longitude: {longitude}\")\n"
   ]
  },
  {
   "cell_type": "code",
   "execution_count": null,
   "metadata": {},
   "outputs": [],
   "source": []
  },
  {
   "cell_type": "code",
   "execution_count": null,
   "metadata": {},
   "outputs": [
    {
     "name": "stdout",
     "output_type": "stream",
     "text": [
      "{'message': 'Provided API key is not valid. Contact technical support for assistance at support@ipgeolocation.io'}\n"
     ]
    }
   ],
   "source": [
    "\"\"\"Get the latitude and longitude of the users location\"\"\"\n",
    "# GET the user's location\n",
    "user_loc_response = requests.get(f\"https://api.ipgeolocation.io/ipgeo?apiKey={IP_GEOLOCATION_API_KEY}\")\n",
    "user_loc_data = user_loc_response.json()\n",
    "print(user_loc_data)\n",
    "\n",
    "# # extract the latitude and longitude from the response\n",
    "# user_latitude = float(user_loc_data[\"latitude\"])\n",
    "# user_longitude = float(user_loc_data[\"longitude\"])\n",
    "\n",
    "# # print the latitude and longitude of the users location\n",
    "# print(f\"User's Latitude: {user_latitude}\")\n",
    "# print(f\"User's Longitude: {user_longitude}\")\n",
    "\n"
   ]
  },
  {
   "cell_type": "code",
   "execution_count": null,
   "metadata": {},
   "outputs": [],
   "source": []
  },
  {
   "cell_type": "code",
   "execution_count": null,
   "metadata": {},
   "outputs": [],
   "source": []
  },
  {
   "cell_type": "code",
   "execution_count": null,
   "metadata": {},
   "outputs": [],
   "source": []
  },
  {
   "cell_type": "code",
   "execution_count": null,
   "metadata": {},
   "outputs": [],
   "source": []
  },
  {
   "cell_type": "code",
   "execution_count": null,
   "metadata": {},
   "outputs": [
    {
     "name": "stdout",
     "output_type": "stream",
     "text": [
      "Location not found.\n"
     ]
    }
   ],
   "source": [
    "# Create a geolocator object\n",
    "geolocator = Nominatim(user_agent=\"my-app\")\n",
    "\n",
    "# Define the latitude and longitude\n",
    "latitude = -32.5395\n",
    "longitude = -75.9591\n",
    "\n",
    "# Use the geolocator to reverse geocode the location\n",
    "location = geolocator.reverse(f\"{latitude}, {longitude}\")\n",
    "\n",
    "if location is not None:\n",
    "    # Extract the address components from the location\n",
    "    address = location.raw[\"address\"]\n",
    "    country = address.get(\"country\", \"\")\n",
    "    ocean = address.get(\"ocean\", \"\")\n",
    "    sea = address.get(\"sea\", \"\")\n",
    "\n",
    "    # Print the results\n",
    "    if country:\n",
    "        print(f\"Country: {country}\")\n",
    "    if ocean:\n",
    "        print(f\"Ocean: {ocean}\")\n",
    "    if sea:\n",
    "        print(f\"Sea: {sea}\")\n",
    "else:\n",
    "    print(\"Location not found.\")\n"
   ]
  },
  {
   "cell_type": "code",
   "execution_count": null,
   "metadata": {},
   "outputs": [],
   "source": []
  },
  {
   "cell_type": "code",
   "execution_count": null,
   "metadata": {},
   "outputs": [],
   "source": [
    "latitude = iss_latitude_float\n",
    "longitude = iss_longitude_float"
   ]
  },
  {
   "cell_type": "code",
   "execution_count": null,
   "metadata": {},
   "outputs": [
    {
     "name": "stdout",
     "output_type": "stream",
     "text": [
      "None\n"
     ]
    }
   ],
   "source": [
    "geolocator = Nominatim(user_agent=\"my-app\")\n",
    "latitude = -32.5395\n",
    "longitude = iss_longitude_float\n",
    "\n",
    "location = geolocator.reverse(f'{latitude}, {longitude}')\n",
    "print(location)\n",
    "\n",
    "# extract address components from the ISS location\n",
    "# address = iss_proximity_location.raw[\"address\"]\n",
    "# country = address.get(\"country\", \"\")\n",
    "# ocean = address.get(\"ocean\", \"\")\n",
    "# sea = address.get(\"sea\", \"\")\n",
    "\n",
    "# if country:\n",
    "#     print(f\"Country: {country}\")\n",
    "# if ocean:\n",
    "#     print(f\"Ocean: {ocean}\")\n",
    "# if sea:\n",
    "#     print(f\"Sea: {sea}\")\n",
    "# else:\n",
    "#     print(\"Location not found.\")\n",
    "\n"
   ]
  },
  {
   "cell_type": "code",
   "execution_count": null,
   "metadata": {},
   "outputs": [
    {
     "name": "stdout",
     "output_type": "stream",
     "text": [
      "Country: United States\n"
     ]
    }
   ],
   "source": [
    "from geopy.geocoders import Nominatim\n",
    "\n",
    "# Create a geolocator object\n",
    "geolocator = Nominatim(user_agent=\"my-app\")\n",
    "\n",
    "# Define the latitude and longitude\n",
    "latitude = 40.7128\n",
    "longitude = -74.0060\n",
    "\n",
    "# Use the geolocator to reverse geocode the location\n",
    "location = geolocator.reverse(f\"{latitude}, {longitude}\")\n",
    "\n",
    "if location is not None:\n",
    "    # Extract the address components from the location\n",
    "    address = location.raw[\"address\"]\n",
    "    country = address.get(\"country\", \"\")\n",
    "    ocean = address.get(\"ocean\", \"\")\n",
    "    sea = address.get(\"sea\", \"\")\n",
    "\n",
    "    # Print the results\n",
    "    if country:\n",
    "        print(f\"Country: {country}\")\n",
    "    if ocean:\n",
    "        print(f\"Ocean: {ocean}\")\n",
    "    if sea:\n",
    "        print(f\"Sea: {sea}\")\n",
    "else:\n",
    "    print(\"Location not found.\")\n"
   ]
  },
  {
   "cell_type": "code",
   "execution_count": null,
   "metadata": {},
   "outputs": [
    {
     "name": "stdout",
     "output_type": "stream",
     "text": [
      "Country: United States\n"
     ]
    }
   ],
   "source": [
    "from geopy.geocoders import Nominatim\n",
    "\n",
    "# Create a geolocator object\n",
    "geolocator = Nominatim(user_agent=\"my-app\")\n",
    "\n",
    "# Define the latitude and longitude\n",
    "latitude = 40.7128\n",
    "longitude = -74.0060\n",
    "\n",
    "# Use the geolocator to reverse geocode the location\n",
    "location = geolocator.reverse(f\"{latitude}, {longitude}\")\n",
    "\n",
    "if location is not None:\n",
    "    # Extract the address components from the location\n",
    "    address = location.raw[\"address\"]\n",
    "    country = address.get(\"country\", \"\")\n",
    "    ocean = address.get(\"ocean\", \"\")\n",
    "    sea = address.get(\"sea\", \"\")\n",
    "\n",
    "    # Print the results\n",
    "    if country:\n",
    "        print(f\"Country: {country}\")\n",
    "    if ocean:\n",
    "        print(f\"Ocean: {ocean}\")\n",
    "    if sea:\n",
    "        print(f\"Sea: {sea}\")\n",
    "else:\n",
    "    print(\"Location not found.\")\n"
   ]
  },
  {
   "cell_type": "code",
   "execution_count": null,
   "metadata": {},
   "outputs": [
    {
     "data": {
      "text/plain": [
       "float"
      ]
     },
     "execution_count": 33,
     "metadata": {},
     "output_type": "execute_result"
    }
   ],
   "source": [
    "type(latitude)"
   ]
  },
  {
   "cell_type": "code",
   "execution_count": null,
   "metadata": {},
   "outputs": [
    {
     "data": {
      "text/plain": [
       "float"
      ]
     },
     "execution_count": 17,
     "metadata": {},
     "output_type": "execute_result"
    }
   ],
   "source": [
    "type(latitude)"
   ]
  },
  {
   "cell_type": "code",
   "execution_count": null,
   "metadata": {},
   "outputs": [],
   "source": []
  }
 ],
 "metadata": {
  "kernelspec": {
   "display_name": "space_venv",
   "language": "python",
   "name": "python3"
  },
  "language_info": {
   "codemirror_mode": {
    "name": "ipython",
    "version": 3
   },
   "file_extension": ".py",
   "mimetype": "text/x-python",
   "name": "python",
   "nbconvert_exporter": "python",
   "pygments_lexer": "ipython3",
   "version": "3.11.1"
  },
  "orig_nbformat": 4,
  "vscode": {
   "interpreter": {
    "hash": "ddbd1b0ffa3789345d38f208869ae6315a975344c125fd2df25b0871f653b25d"
   }
  }
 },
 "nbformat": 4,
 "nbformat_minor": 2
}
