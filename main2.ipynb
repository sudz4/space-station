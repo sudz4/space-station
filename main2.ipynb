{
 "cells": [
  {
   "attachments": {},
   "cell_type": "markdown",
   "metadata": {},
   "source": [
    "| ISS Tracker | International Space Station Tracker  | IMPORTANT API Endpoint Information |\n",
    "| ----------- | ----------- | ----------- |\n",
    "| ISS API url | http://api.open-notify.org/ | ISS Pass predictions are now turned off. Real time current ISS location and number of people in space will continue to operate. |"
   ]
  },
  {
   "cell_type": "code",
   "execution_count": 31,
   "metadata": {},
   "outputs": [],
   "source": [
    "# libraries\n",
    "import requests\n",
    "from geopy.geocoders import Nominatim\n",
    "import geocoder\n",
    "from datetime import datetime\n",
    "from datetime import timezone\n",
    "import pytz # used for granular timezone data as well as daylight savings time data\n",
    "\n",
    "import folium \n",
    "\n",
    "from astropy.coordinates import EarthLocation, AltAz, get_sun, SkyCoord\n",
    "from astropy.time import Time\n",
    "from astropy import units as u\n",
    "\n",
    "# libraries from udemy course\n",
    "from pytrends.request import TrendReq\n",
    "import matplotlib.pyplot as plt\n",
    "import matplotlib\n",
    "from IPython.display import Image\n",
    "import requests\n",
    "\n",
    "\n",
    "\n",
    "\n",
    "# config file(s) import\n",
    "# from config import IP_GEOLOCATION_API_KEY # IMPORTANT - KNOWN ERROR - Quit VS if you adjust this"
   ]
  },
  {
   "cell_type": "code",
   "execution_count": 32,
   "metadata": {},
   "outputs": [
    {
     "data": {
      "image/png": "[encoded data removed]",
      "text/plain": [
       "<IPython.core.display.Image object>"
      ]
     },
     "execution_count": 32,
     "metadata": {
      "image/png": {
       "width": "50%"
      }
     },
     "output_type": "execute_result"
    }
   ],
   "source": [
    "# look at how the coordinates work with a map image\n",
    "# https://www.satsig.net/lat_long.htm\n",
    "Image(filename='satsig_explanation.png', width='50%')"
   ]
  },
  {
   "cell_type": "code",
   "execution_count": 33,
   "metadata": {},
   "outputs": [
    {
     "name": "stdout",
     "output_type": "stream",
     "text": [
      "Current ISS Location:\n",
      "Latitude: -50.5496\n",
      "Longitude: 139.3492\n"
     ]
    }
   ],
   "source": [
    "\"\"\"Get the current location of the ISS\"\"\"\n",
    "# send a GET request to the ISS API endpoint\n",
    "iss_loc_response = requests.get(\"http://api.open-notify.org/iss-now.json\")\n",
    "iss_loc_data = iss_loc_response.json()\n",
    "# print the API parameters\n",
    "# print(iss_loc_data)\n",
    "\n",
    "# extract the latitude and longitude for the current location of the ISS\n",
    "iss_lat = float(iss_loc_data['iss_position']['latitude']) # also, converts lat string to float\n",
    "iss_long = float(iss_loc_data['iss_position']['longitude']) # also, converts long string to float\n",
    "\n",
    "# print the current latitude and longitude for the ISS\n",
    "print(\"Current ISS Location:\")\n",
    "print(f\"Latitude: {iss_lat}\")\n",
    "print(f\"Longitude: {iss_long}\")"
   ]
  },
  {
   "cell_type": "code",
   "execution_count": 34,
   "metadata": {},
   "outputs": [
    {
     "data": {
      "text/html": [
       "<div style=\"width:100%;\"><div style=\"position:relative;width:100%;height:0;padding-bottom:60%;\"><span style=\"color:#565656\">Make this Notebook Trusted to load map: File -> Trust Notebook</span><iframe srcdoc=\"&lt;!DOCTYPE html&gt;\n",
       "&lt;html&gt;\n",
       "&lt;head&gt;\n",
       "    \n",
       "    &lt;meta http-equiv=&quot;content-type&quot; content=&quot;text/html; charset=UTF-8&quot; /&gt;\n",
       "    \n",
       "        &lt;script&gt;\n",
       "            L_NO_TOUCH = false;\n",
       "            L_DISABLE_3D = false;\n",
       "        &lt;/script&gt;\n",
       "    \n",
       "    &lt;style&gt;html, body {width: 100%;height: 100%;margin: 0;padding: 0;}&lt;/style&gt;\n",
       "    &lt;style&gt;#map {position:absolute;top:0;bottom:0;right:0;left:0;}&lt;/style&gt;\n",
       "    &lt;script src=&quot;https://cdn.jsdelivr.net/npm/leaflet@1.9.3/dist/leaflet.js&quot;&gt;&lt;/script&gt;\n",
       "    &lt;script src=&quot;https://code.jquery.com/jquery-1.12.4.min.js&quot;&gt;&lt;/script&gt;\n",
       "    &lt;script src=&quot;https://cdn.jsdelivr.net/npm/bootstrap@5.2.2/dist/js/bootstrap.bundle.min.js&quot;&gt;&lt;/script&gt;\n",
       "    &lt;script src=&quot;https://cdnjs.cloudflare.com/ajax/libs/Leaflet.awesome-markers/2.0.2/leaflet.awesome-markers.js&quot;&gt;&lt;/script&gt;\n",
       "    &lt;link rel=&quot;stylesheet&quot; href=&quot;https://cdn.jsdelivr.net/npm/leaflet@1.9.3/dist/leaflet.css&quot;/&gt;\n",
       "    &lt;link rel=&quot;stylesheet&quot; href=&quot;https://cdn.jsdelivr.net/npm/bootstrap@5.2.2/dist/css/bootstrap.min.css&quot;/&gt;\n",
       "    &lt;link rel=&quot;stylesheet&quot; href=&quot;https://netdna.bootstrapcdn.com/bootstrap/3.0.0/css/bootstrap.min.css&quot;/&gt;\n",
       "    &lt;link rel=&quot;stylesheet&quot; href=&quot;https://cdn.jsdelivr.net/npm/@fortawesome/fontawesome-free@6.2.0/css/all.min.css&quot;/&gt;\n",
       "    &lt;link rel=&quot;stylesheet&quot; href=&quot;https://cdnjs.cloudflare.com/ajax/libs/Leaflet.awesome-markers/2.0.2/leaflet.awesome-markers.css&quot;/&gt;\n",
       "    &lt;link rel=&quot;stylesheet&quot; href=&quot;https://cdn.jsdelivr.net/gh/python-visualization/folium/folium/templates/leaflet.awesome.rotate.min.css&quot;/&gt;\n",
       "    \n",
       "            &lt;meta name=&quot;viewport&quot; content=&quot;width=device-width,\n",
       "                initial-scale=1.0, maximum-scale=1.0, user-scalable=no&quot; /&gt;\n",
       "            &lt;style&gt;\n",
       "                #map_75d4eb9e96e5dbc2cb745b25c7c5a643 {\n",
       "                    position: relative;\n",
       "                    width: 100.0%;\n",
       "                    height: 100.0%;\n",
       "                    left: 0.0%;\n",
       "                    top: 0.0%;\n",
       "                }\n",
       "                .leaflet-container { font-size: 1rem; }\n",
       "            &lt;/style&gt;\n",
       "        \n",
       "&lt;/head&gt;\n",
       "&lt;body&gt;\n",
       "    \n",
       "    \n",
       "            &lt;div class=&quot;folium-map&quot; id=&quot;map_75d4eb9e96e5dbc2cb745b25c7c5a643&quot; &gt;&lt;/div&gt;\n",
       "        \n",
       "&lt;/body&gt;\n",
       "&lt;script&gt;\n",
       "    \n",
       "    \n",
       "            var map_75d4eb9e96e5dbc2cb745b25c7c5a643 = L.map(\n",
       "                &quot;map_75d4eb9e96e5dbc2cb745b25c7c5a643&quot;,\n",
       "                {\n",
       "                    center: [-50.5496, 139.3492],\n",
       "                    crs: L.CRS.EPSG3857,\n",
       "                    zoom: 5,\n",
       "                    zoomControl: true,\n",
       "                    preferCanvas: false,\n",
       "                }\n",
       "            );\n",
       "\n",
       "            \n",
       "\n",
       "        \n",
       "    \n",
       "            var tile_layer_184e1375d6afa41bb30f0e081699eb86 = L.tileLayer(\n",
       "                &quot;https://stamen-tiles-{s}.a.ssl.fastly.net/toner/{z}/{x}/{y}.png&quot;,\n",
       "                {&quot;attribution&quot;: &quot;Map tiles by \\u003ca target=\\&quot;_blank\\&quot; href=\\&quot;http://stamen.com\\&quot;\\u003eStamen Design\\u003c/a\\u003e, under \\u003ca target=\\&quot;_blank\\&quot; href=\\&quot;http://creativecommons.org/licenses/by/3.0\\&quot;\\u003eCC BY 3.0\\u003c/a\\u003e. Data by \\u0026copy; \\u003ca target=\\&quot;_blank\\&quot; href=\\&quot;http://openstreetmap.org\\&quot;\\u003eOpenStreetMap\\u003c/a\\u003e, under \\u003ca target=\\&quot;_blank\\&quot; href=\\&quot;http://www.openstreetmap.org/copyright\\&quot;\\u003eODbL\\u003c/a\\u003e.&quot;, &quot;detectRetina&quot;: false, &quot;maxNativeZoom&quot;: 18, &quot;maxZoom&quot;: 18, &quot;minZoom&quot;: 0, &quot;noWrap&quot;: false, &quot;opacity&quot;: 1, &quot;subdomains&quot;: &quot;abc&quot;, &quot;tms&quot;: false}\n",
       "            ).addTo(map_75d4eb9e96e5dbc2cb745b25c7c5a643);\n",
       "        \n",
       "    \n",
       "            var marker_2315fce5f24682212673a20997bbe2e3 = L.marker(\n",
       "                [-50.5496, 139.3492],\n",
       "                {}\n",
       "            ).addTo(map_75d4eb9e96e5dbc2cb745b25c7c5a643);\n",
       "        \n",
       "    \n",
       "        var custom_icon_39afebdcffb86c2ad90e4eeb43f8ec83 = L.icon({&quot;iconSize&quot;: [50, 50], &quot;iconUrl&quot;: &quot;data:image/png;base64,iVBORw0KGgoAAAANSUhEUgAAAgAAAAIACAMAAADDpiTIAAAACXBIWXMAAA7EAAAOxAGVKw4bAAADAFBMVEVHcEwcHBocHBocHBocHBodHRscHBocHBocHBodHRscHBocHBocHBocHBocHBocHBocHBocHBocHBodHRscHBocHBscHBocHBocHBocHBocHBocHBocHBocHBocHBocHBocHBocHBocHBodHRscHBocHBodHRocHBocHBocHBocHBocHBocHBocHBocHBocHBocHBocHBocHBocHBocHBocHBocHBocHBocHBocHBocHBocHBocHBocHBocHBodHRocHBocHBocHBocHBocHBocHBocHBocHBocHBocHBocHBocHBscHBocHBocHBocHBocHBocHBocHBocHBocHBodHRuFv+nm5NrL5/XdwHwgIB8jJyhUI+hUc4kgIiKEvuhwn8BplLJsmLceHh14q88/Ul8lKixcf5g9UFxAVGJCV2V6rtNKZHVegpxGXW1QbIAqMjZji6cnLS83NzRokrA1Q0siJSU0QUmAt9+BuuM5SVMwO0IsNDlqlrWDveZzpMZhh6I4R1E2RU5HYHBiiaRljqtDWWgyP0ZRb4MvOT9FW2p+tdxfhZ9WdYxmkK0pMDNJYnM8TVk/PzxafJRyocPV1MpYepF8sdegn5hOan1TcodNaHvb2c8tNzx2qMzh39Xk4thtmrp9s9rJx75TcYY6S1ZjYl6uraV0pslMZnhum7xubWheXllvnb7R0MZkjKmJiIIoKCbAvrYmJiJYeZBXd47Ew7pLS0fl49l7enV/fnlTUk48PDhZWVS4tq4yMzGlpJ3Ny8IvLyxnZmGdnJWzsakjIyFPT0tqaWRCQj8sLClzcmy7urGEg31FREGmvMeVk41VVVCQj4mNjIapqKBIR0R1dG+amZLcv3tUTDaLnaV4d3E2MieFlp7VuXh0ZkaAkJfFrHBxf4WYl5BFPy+mkWCUgVbPtHSxydWDdE5oXUBbZWmdsruRo6yeiltiVz66o2p6iI+Xq7TD3utnc3h3hYxUXmFNVVh+jpWImqKtmGQ9Q0RhbHBHcEwcBy9FAAiELx/BAAAA/3RSTlMAQjV/F/1MVTz2K+J3zNQk3wgy+bju6oW8ObHZXUW1ZwGtIfEOSdL0FGRPwNwFCy+oWgMoYD8eqsqPV8RudOflgp5Sa3GImKEaeqSNx5uSEYt9z5SW////////////////////////////////////////////////////////////////////////////////////////////////////////////////////////////////////////////////////////////////////////////////////////////////////////////////////////////////AH//LnLJAAAgAElEQVR42uydaUwVWRbHFXiPfRHEpVlEENmUfVERRIUGHVEQHxEICDzWJ+CTILIJIoKK4BIIxDaQYDBBko6ZtPO5v/Ukfpmv0nF02rhEO2l1ZrrH7vkyQFcVVbfuq1u3bOq9enP+33zW0Tq3fnWXc8+5tWYNCAQCgUAgEAgEAoFAIBAIBAKBQCAQCAQCgUAgEAgEAoFAIBAIBAKBQCAQCAQCgUAgEAgEAoFAIBAIBAKBQCAQCAQCgUAgEAgEAoFAIBAIBAKBQCAQCAQCgUAgEAgEAoHsUInbnELdHFKC9PpoZ+c9gYtKcHaO1ocHpTi4hUbuhAbSiGJT41zCnQOj9mZ7LMnR0fGQR/beLVGBCQeCXOK8nbYlIs997d6jaele+1wN0orY5xmcn6GPtFP6j4XGuQRFL7VbRmFWzpKyHD0OJkc7oA4nOnkvNXDyQY/F63afyM+NT2N1ODf/aE5hdqDewckaPqxL8dgf4xNhIEnnH5CetjvqGGMWaKCSLstunnmqb3hyRkHu+l0BmRKtptvOGuzJSYvx2qCT1Uxh64PU9scxgu5J6hk7Dzozwxfaf/RO+sVXxV0nF3nGKo+unbaq3fPrKB8kS2gOpV28xp9+iGMAXVOxALjRtVOMyn5tpnyOhhTG8ASlXa7GAXCgbSidMsPjKvuVQOuXA2OYS2l3QuMAJCsFgPIV81LZL9qh3BDHGG6ltPuTxgFwVApACp3ZDpX92k3rVxJjuJ7SbqPGATihFIC1dGbuKvt1mNavVMYwndKuUOMApCkFIIjOLFNlv4Jp/WJjFZ6UdhkaByBYKQB6OjN/lf06QusXGwjyorTbq3EA0lUCIExlv7bT+rWOMQygtIvSOADHVQIgQmW/dtC6FcIYulMaBmocAC+VAHBV2a8N2Ltor2s1m82tZeK/8WMNMynb44DGAQhQCkA4nZmfyn4hm3k3L4xPT3acKmbUWfPwtoUhKoyyPfQaB0DUVdY1DDVdfdT88ELl9OnTkzXjbbOtsgDoNw3cGa2/3DY/V7No1jdT3481U0mJSHx7ohjVqXb8KoVPTsWD8rHms20zlX1z031984P1A3UiANZqHADRkFcpaqqHcgAwicx6260IwDbEqxrR7RWbBRf4sJZ8cppERvdK0fbarHEA0CHvvLilKuUA0Ca2mxJcEKKqW8heZdkp8e1dEVwRwBju5P84L7a6iQLgq3EA/BF/7op9Pi0HgOtiO+EYkKiqW95ErIu7BFdsx3QdpZ1iq25LIWStCp3zjIh97pUBQCumhRsFV6ibRIdsVjdibq9BcMUuxjCS99u1YhLViwrVOABo6hum1ytuJwNwBWM2gA20qCNfoVdNmNszCa5Ix4wdt4nYLCpP4wD4kWdLwnEPDwCure4IrohV1S1ks3oWc3vDgis2MYahvN8GiNjwQsj2AkBHMWE254cFYAhjNiu4YpuqbiGb1Y8wt9ciuCKYMUzi/XaGiI3qPdvqDwGY6bJw4oMHAPeyjFrxTUH2KpuJAKQxhnG830ZlAKALsS8ASjE+CxdMftgmxg2yE4Ir1E2gRwLVlzG3NyS44jBjyM90qydio36Ie7UBKFMIwF0bA+CA0K0bxEXKfszYcZGIjfrb3KsNQJ1CAM4QAVC3OCSBGKZC5vNFGLcGZUwC9/0/ANBNBuAOcQ6g7nIJyXWtwtzeJWxup57QbzRYOdfRKkPAlLIhYBabc6eOooRuXSBhzeV2HiD0G/1Wznb+w4UUULUXk+IAeAAeEOMA6kbMDpJ7gFZsbucegtUVBABPOwMAuwpoV7YKGLAiAHuJc4BeIza3M5DQb5itXPG02gAYMPsfndjMDmFaeAumrWoFV3ir6la20KtB0hYXl9uZLI3NqQqkvdZrHQB0M2iS1FSu2FibiThcqgtABjEOMIPP7dwiPQm8Z3fFweh28LTY6a+xALgQ9wJ6rAjAIWIkcASf28mfPJwl5UbwAkiaFZo8OSN2+qwMAC4Re0t1ASgUeoUJ6p4RXuGMmTyMkNqCF0DSrNCMIExn+Rdsfrdwv21KbDZpsCIASMnjHdIMhcvtzJBMJCwuRwEo0joAaE7gKGk2H4EJmmPjBzPWzJzZSEoIOTWFPx+CP3ZcJUeCDQVaB8AHcWiYNJljAfAlbSM3WxMA9JyP1vt3x9oqayY7rk/WfD040dSPlga4YMaOFnIYwJBlbwCUPWieP93LvCX3xi9frb1pkANA7UTVNLuE7Jxue9TSbbQmAAVKz4fI4rfF8ERVTS+3Gp6+MdooSgo+pHUAsIUhxrKbPVPmugqpIr84XOFNq3mqp7Vdsv5eHVEfD+BmoeswGOumus+f7+4ps8/aUPrKIBYAN4UtrI6O0rrlrbDr2KJ1ALyUApBk0wAU0bqVp5AcrdeG0pdRawMA6oNPIhUaOmsdAE+lAHjbNABf0rrFJi3nU9qFax2AXbQtxeZAhVLaxanqFvoc2883Nn01Ud9cPzb7oPGcuMSTK1zaT+mW1mtD8SeE1F271NBoamzo766jAaCi59ztWpOp9v6Vm6U2BgCyr3OvbchC9fph0RrgfH9X17lrrUY8AFqvDV0Tg3rUMzLOD+p0jl8sxQKQitjNXpjkpZT31tw4Z00AkBe5rJcQ1OeOB4gXZDlMd/I8qpoY6rEy16sg0bF44s2ACiwAeaTyyxZrVtEiAHSRdnW44wH450SWiipeqy0uHzUr9JQwYwcBgA2MoRNpu8WqACAHvraQAPBhDb+QLHisNthYaWDI2iLPzA1euXsUFyihJ6Oai5UBMGJbACBD+VUSAAG4F6JRBgDW/WBEOHfGV6ajwto79KDIc3IBiCTl3bbgg+1WAWCMBAB3lvUmyUzXaovLR2soVuDlhuQ/oqUMtXIBOCa067MtAOJJ/RMCwBHcpLicDIA1SwND0ShukZIzGNB1b4tcALaRcgltCYCzJAC45N4jkv2GCAByaWBIbGRqkpuv72aXlKAgPV9Ba102+/q6JYWm5h1TMIS77RN1R5sU9EfogvmWXABiSUfEWBWANFJt4FkLyb27JDMJqw0UpYFJWz19/F3lRpRc/d29jmxK+3JjdoJLqox+xRt3oGGMcCIQ6xtEDMCeIJ8RVIFdMK0T2vVqGwAuufe45IpYBIDUIegZBsXyX08KMEX6YA03rRzF5J2RrluqXCE0PLr7dUchAMRCanVDZlspAYhnDb3oAJAqDSwwfIYKCAMLP35jfPluwSjMUdyZEKNjg5zSR1kWKO0Bdto0ALQ9AJfcG0AHwHaJeyj6HACOSvvHK2D65u0PJSUlPywwf0xYmp958FM9wySLspDsSVyNVwW2HjqEdLKIpgDgvvyzQ/J8ABEAR1YLgHxJ93ZyA4Bx4U3Jsp48Z0aPvNhCf4rUdUfaSSBXEK+zJwB2s4Y+dADEUIyuVJIuOInmrnv+pITRk6e//7JLNDsMkzqjEf240oBsAPw0BMAgCYAc1tBdMnogAiBY4h5yPgeANHlTnPfc8+cAwEhqDMimjQNwALjSrQKsCgAxDsB9+SeTbhko9T3Mws8BQPJDm4lsRefTZ9zz5yYBEgmPOCGF9Lgqzwr8wieCUFVsSwBcJAHgwRryS+XqyQAclvVuGX958eLnjx8/Leoff1/Sr9+z+nXxT58+ffz5xYt///jLf/77Z1lFp1xRzmvm6b95vWC0/Pz9pMJMUbShYA4Af0JhiC0BUFu5HKjq7Zjsq35YX353qMtsIbvbny4SmC+vaf92Uq7a5QDA1rA/Xu4Anrx+aTQYJQAIlrmeWNb9leKpycob9WeG+3sshD6EZaX3OLuOuaqR8lsN3RU2BMDy7n5FqYzs7jBLMZHO031VI7doVmsrB1UZ/yUbgMdyHhpbvfJ++fV/bjBKjiY6F6l/yxltpq7hWy2mhkvXWi00lztutDQYrpkGBoYau66Y2w22kDtF+zW8QOzAZr5vMrUMNzZ0dVtyK0dqr5a76lvZz//kt3J6gKP8EeDZY/SmFl7j5zeEBYVMcakT++jsbBsAZ/zahihHOSO14a/0AGyVs4Hz2xIAb4V39N27DyXP+e9/lnRLBSkGwN2eANDjoxtEeUht13BX/UgPQLyUd2zS+1II8M03/P574fXitOAJr0/IJH3UKkUxAD50di42DUAQPr5J1EGJe1jJmHhBD4BkIGg3D4AP3P/y9N1Pv0cFf1t5WIXEI5o3KwYgwJ4AcMHvcBAl9dnIEK43+XSSehIoGb5lo3cflh73q/cvny68e/vqDRcSeMes/rbEydhW9qUFYAdu30wDAJTWmXumesx1+LmtA36Pk6gEqZvg1knfywfgO+GunvT64lUJTs+YQSFdXl6J4h5ASwDUzq0krFyfaxtr6kJm9W74PCeioqVugusj/ykfADnLC256+RYLwE+yZv/imQqjbtPV+sGZ8emamum5+RvNX7VcstADCD86a+waKB9pm59bshuvfjh2xjRlQwCM/o+7M42K4sriuIl2ooILioCgouCOGXFDRwcVl7ivseUcPILYUVB0lE0hBmMU3DXjbkbFBQMa1LQ44I644L7g7hw5cTyJM86oyRwnZ5JZPgx9tLvq3bfcVwVWl/M++MHmdb+q/nW9++7933uxos/1qH3bcSsKMzMm7clOyN4zKWNB4d74bTau7cAcIdr9QP+QOV5U+5XldSSQCcCPmsxumOBD94yZzwGATCudR93iBSYCIA4pFu+S9xNaZ6rRTDrVMaib1CLkAXjqnCLuSv/6x3foW8EOECzXp60tvCRK3BfDAYBs0P455m13KwCJGABOeX8NTdggQjdXPPipNAA3ZKxL5RjwAwOAJzKuJGVQmx4d1ouSASCemrbaRACsxqrEOeW0RMJbJg6AUHM5RjsAL5xTxMd3p5ORtQc8kjihqgY0e6OQWtFKDk0vJIgU604AgCw8Fqv735m1I67GARCqrQK1A/CLc4o47dyrjfogSI7vX78kWZSpuQUFYAIbADKvmE6jyjARAJOp1ZHNwxsybeIM7LmBpAa21w7AT84pHeWuj34EPDiP65WJ0RAFYCobAD8EgMkmAmA/0jg2mAnATgQbK9ILrbF2I/Bn5xSkv4arsQl0BTz41nlJAyTzhEC58Giss4ILAG8EgJ0mAmA90jDGh+kWoRupfwUB8JI6YssDkOwM4YhThcJcCV3lf4GPgL86bbbWcrULfPQC0AwBYL+JANhDrS6VHeMmqh9+hjaMscgZ2M+l3QBOT4OwGdngkcpj2/bHB5CAxz++fpdaUjXsPFAAyFKhriY5/oiUbJKJAPhYsnk86RnPRrBRyqZyhtNUe6H5FChoRTSqL6FZsDHcgX9/bQhaqkvcqg4oALPZALRAAFhvagDmsfM7iBLYCdSsuQAAH/EqnAHTZ8+fymmC/uV8Yz/eW37gCUT/VhvDGfCYUjrxR10UgE/ZAHR/iwBIQC5qODM4ugmtFV1fvApXpqnNZptz6j8Xfv7ns//+5NCH/vInhy70xYsXL1++fP78+Y3nN16NZ84JgzQE72x/5p8F2+DtGuugpwDOEyAUsQHMDUASO7+jptApOh7EN5Stgz38davCuTIeL1a68SPKJfw3+UcArBMnbQMMRRxBbjUCQd2LTYhzw5upj1mB3ApVYRGxdEv74HuCW7D+vPzfHHegULLE8uewXMFJ7O1yEOIK/trMAMSQgT1/pkIuDXGJoCF3X90ANMW9S0AI+kR9GnjwvVSwgnGcZ2V4TGUDEMGRk5vCEQQA2AUXt4J8PZQJQDoSFhHYaq9GO90A8HN5OvOkeOWPfnjsgODB4yePyiUXyNqn0pCrdgFAluP9xFzBoEEIANnk6xEwysJ+GKZpSrmo+LI8g/V9/w0FXjxR3Ymo8vLy8+r3qa3ZXKI3vnTOtvcREg52qx4gArko4KYcR7lYmQB8DG94KBpsHdBaDwAi47JlI/n3GaL9t0L/WDZxACCzn+m+cetMBEAa0tBoGHOHjUG7Bso0jetYvY5FKwBSeUH48G8usT5YJGgTctWubsnDiP9ORXpHGwzACASALZxTl7p5uI26pEx4h8fJrSaofzPul9S7DmMIbfe2svtKL6miYcOsyJE5jgPAQOK/l2CRs8buBGDpRDC+4DwqewpdIrvhLR4tu56WlXpKgzFE7vsPkasdCo8qX8J7tYx8vQd7YhKctjTKnQBobBgxwDmvkxqASXDAUIC1uvSC2vA+Wkd9Ty+pnJwRkrUHtZYxcHlNq2ubZywAGju/BLIAkBie0guqq/3Ezx9d/D0osyKkZrvR/gGuMKGHdC+bcL0ADDEzABoLNLl+hk20zZNvGsf1CutspdO5RuPwEAvlzPygS3vPiF6tW3SVLz3aXyMALueXp5kB0FigqadzXteq8tjCwX1etqzEVYYNCaC92VpHV70AhP8fAdBep++uk6QJGNaAt9PWqh02qnMlLrSxb2UB6KQXgN9om2dsqViNnUNdG3GgTnCc0fqwjjVb9QwcMMR32LiIUH+/XmPr1u8djLoB2vQOqBPiP/TD0WMGdH2/Vc2OQW011P22VBIArRUiQnTuHaYGoKbOi1JZcLV9/Vv7aPb48J3BPvXH9moWOmJY3/DATu91a1CvBudQX6OyT4CmegEINDMAsALu9FVxiSkpWVmJjgpRqUncxfXXCU61lsHWNz0sjnri3t0jRvp69m/S/p13uwxu2VyJXrTx6OMYPr0d/3p06BBQt06PXn7e/t0jPho4Jjywa79uHcOYlmE3WmGStCR+2vJFex21glJnR/MAoIyHCcs+mbZ40YwZjlpByyaYCwAg70uL55ji5L6WNG9h/PTp06c4SiYxO2krfXDet7pjWII9emv5++AAv4ghPesRHuJ34R/9dr4wx8+Pc2KaA4Kn6RPcCcBAsLgYsZ/aleBD1s1UpxPEJOyMWwbvVRfeB5p7NGqh3rvgqxvFkVM/jvW4DBFQGgsA8G/ORSJVg5lHGxsUBMyA9yqsCtRf7hmK+UoVCEiB6eHRbADAQ28NvMeLTQTAYri4b8jXRzGdG9vgrFXwXik9w3q8ZQD4ulY+2CreLqGA1o8VOLMyigzv5m2XRgwQMv09ogfwYro34xGJg7pnmMdbBoBShIoqEJAuTqPzZmonGK1GVpoIgAViRZCF7bDbguS7qnuGBb9lAChaMdD8yToVKfrbjKmeslr/gGgCjQUAeF53ilUubdjzqAIRn0EHjmtec8tbBsBY7tIpY278LDYAwIEwE5HdGQvAGETkQOrcfNhPDqqqQAK4iz7cn5HpR33lXoH8cFrct5ENAHAgJCLCW7cCkC6WhXuwjcc9mChUuYuj6Fu89uyxspK84oKiopycnKKioqvFeXdKNt8vu22/dvTKxdyTF+6uTT5zyOYmAIKVe9WIfGUKIoRySehrig8P42NIRYixfdbJWPUcpAZ+APs4j5VLUs2jLKmogki5sXXD6YLivJJzZfZjD/PP7rt5+JIhWFiUaEMf5MQ0PoUNAPAgxSL5BO4EYDZS96Y104MYFYPlBdShPPKukRxZqVGBRdHV0jub79969byoAOP6ieQzB6OqjADlBAvSg3+HpPi4AABpihlI/qWxAHgidg2ZGjacGURKwsolqRKDqCfA8cg3M3ZUoJFTcLU0r2Tzdw447uVX7CY3Dzu2E210BPHESnTLbNL2ddUx70jOm4xkYLsTgLnIFhDC1BFsw8olqSJwlA2QG+mGsX3rgQo4KvaTW/Zj9y7mHr+bfJkLRW2eD4vuHLmHDUBt7AmwxI0AkGoVOmmBfJg3Y0rJlqBPAH++6jc/0hzjyNbTxSW3juZeP88NzoUgDh2QD9OC40NOQcpp1DYUgAHIyWY++5oIMelCrH2Syp1GHQOvRJpsbC8+yYlke2NPABIAV0O7IHLeN6YCgAzr0omLaZwvcoQQG5BTrGoZ5WXWJ4BqHOBoWUAcawYCQKhLkYg4gtwKQH/kCZDA+SIjhNiANElVyyiqz8BZ8wEQeYYdDgTZoXTr0Gw2AIPFUWQYDzYWgEDEBljP+SLFAIA0SXVNd+gKvmlCAK6rF9iJec1WVrGfz9iPS3DymYWcAowFgFT3LkHq2Cpf5CAhNsC7ra7ID4NBl0wIwE31ApvwcijWIH6AQZyTzyLED2AsAKRebRuSu65keA0VHh5BEFnJKINN9KzW8zvMB8A+NgBAzJSK/FoGcQzfeKS0TBdDASD1arRLh5R2hDMBoFsgABmJugJTB2gE5JgPgLPq9XXlRU4/RWIBERzDdx4SCzAWAFKvFr0uIyFGIO7qzzSIvsBKHqh+RdWoOhD3zQfARfX62nF8JozAyTq2xQwM3wlI6KyeoQD0pDxf0dsWTlm0dGLhuri4jROXkvJO5degLn44IQ0peaAu6j/8LTgGcACAUvjZqdP2ropbkJUxOTY2JTFu1ZekNf8hz/B1zJu4bmZiyuqsrMSZhbOWuxMAbSrtnkwArNapqdN3x2V9nZ2wKy09fUVCNuwYo9LWwlpb1jM7zA1AoN7kwHE8IQEyjAWgn06JbAtN81RVT0KpFy/cs58rKS3I2bDdLADksgHQmNKgNLSrpWlekKEAaEt4a6oTAJXIRVSR4vzBU8lr7164uS83/8rDY9fst8rObb6TV1pcUJRzesPW7UeMAuAkG4D3tAEwUqcO0lgAtF1UY53y/i5cHbqmEXXo8pnkE5fuHj5+ct/Z/HtHr9nLNhe8AQAusG2Ad7St9tc8KZGpAGil85esDYDBvPBj5ceJNwDACbbh21gvAJqy0rAeKFU8YMprdFLS1DlR+C+5maZrGsVzPVZ+HKK/vw1558puX7tmt9tvl50ruVN6tSDnwFYNpuaR82xXsMbmsaN15kIYCwB8rL1SOsak78qelDJz1ppo3tq0AeCld8+RGBvg91fKFAraDp5ae/hmbv7Ra7fO5V3N2bBDNhrYj58btiQzK7Zi7MxIyVpZuOWraF4ABNaqmpG42jGvYtqCjbOmTXUrAECyDIVumTx9HHmaS50cm5KVuTKucOne6Z/PpoWVqg9sUNUAUEaAXW7eweTrx/flH7WX3SkuOkDgsJn4u1b83LDlQv+nL9f7ScpC02zc/dKAASTLsAtsCu+X7C24Eyt286XV9F2s7MgTOnIlh+3yicMnzz60l5WUFh24wDnCUmqmGcJKoQoAAWDeeqF+zlgAoGETJ8paUmV4+YnUUaADgrWP6gM7W6oYgO8gAJeq9v0Vw7czfGmWsEJyX677O0HYXMFYAGDVgyzRV6lq/UQCUCjODCNKOtevYgDsUNIVVbXvH8RNDYK91kGGjxI6HQvmgfQbUE2hhlsB2C/Sg6haP/2PvCt9auu64kICCZDYVwtksYOAYHYhdswqmR3UD3Rcu3aa8ZZ0Ia3HSTu08XjiNB03JWOX1LR4qqlpCvEYHGMw3rDBC3aYjI3tD/nIP1IWgd490j169+nx9KY93xj5yffd+9O95/7O75xDCiR/j8sBsrj/Y6zIAHgDAOAQ+fu7qKlBcLs8RANABR5FOu1PAECf7F0MAJE0APwUTw1sJwLQ2eIuENSVr4r79ZxjD6YGueVSk9cAKy0A9gu8yWKOpAAASQuwXPgQbSsnOygN4QAg23EUGKytVfGirRDMLHklLgC4/gt05i6gKV5Wmp78U7zNqrQAAOTG0UMYAHppAPgrLgnUe/iPCyICknXdrbFhkT5WDFgBAJgQFwAVnDH3otc56M3pKA6Tm4TumD8BUIKLFcgjoIoW1j+DA8CGj6E4sGRPpsZUU29pSE2sSNJ6LxjJNZhcOC8uAFIVdC3D71BtXw3N7fkL3mq9S1IAAHbrz2hLu1jKXMB9Ax4BHayjisopD1UGqCtNjTpVc2eDLTU2ryIrSRuf7QEaUxiR77t1K2hXH/dyGmS3xCYabXpcTgAAWSuf8ct3BY7tj720DLKIN97iArdwIknqzt4QFwDcNgV6/MoE7nNNtOf+iAMgQ1IAAGLuNFrsp9D1XBi2b8BrYMLupbKs2ygZCRL5Fsgt2gbFLIdRAFTTxBNf4D6AtAAA+fowx+Mc8WkDBQB/91IiyCrmiN06FVwjADAt7vqnc6tRN+CULjgCGmnA+QrvGSQtAEDWyjE0LaCT4hCfxpvhctMCdkHCMkMAYBzcQFu6uy2dDea9eVlaIQQEcYGBtfX/jTqBRo8a+nU7j1aXsxdICoAM3D/5khLgJOntj7xUiTOJOWI3WcYLAgCLJI1DlH0uzolQGiqNPZZWfVUSv4rlldznofsxhHYPL6XtHAfBY5/4EwAgawXmu/2N+LSHAoB/oQcH73YRgpgLu/0ewgPFIF+U0hWhzCyqVlla97bT4NBO9KiwejkCyAwfVzJEBw6Aj6niCQkMJC3Awkdf07byLOxiC7pN2tW76Lba7UsEAG5TA9HefgptJUqDprRJ1d3XYTPr9XpzR7eJ/DVWe3ECf0PZPPrRGBI4OezvSAqAFPI//wCtY2yiAOCYl1LBZWKO2K3CwCpCBKaLOllQzvYftCqCS0pkwQEAujIUSwoABbn1nUX9k0oKAH7mJTFI3NKHUGX/gK7pFxkAMI3qCJri5UqiAE0ZbqKpgXZp1x/EuE+hN1s1BQDH0Zq5Yue6QI3tCF3TLzIA1DgVDAjQTJrz+C2KmyCJARCCAoCMbwVQAHACD2+JrHEJRwHwhCZh2QUB5YdY4ISTRQMqcl9CedMYiQGQjpFUZ6isWBbGbQK3VmRqowp8+yIBgNfEZyG7Kp44h95+XT+XHnQH+Ma/AIjHfACy8B03wScLuzu8R9dUiGB7UQAM7+J+CkKn9j+hXRJcalIdeg0ErYayJQZALXYLuECOrZyfD3AGEQWLYDYUACAYKCr24A30S/K9b5KfuvLomlAm8JJ/AaDFeIBL1EAldgsYQkQ17ERFTlqosixTralM3jDNfrUeBcDgLrIqUBcOfsqXaQdmIxoLuLyrPxevFokxgclYldMAACAASURBVF9QKQqMB7iAiYJ5kRNtSrVR1W/OC6/jwd+PYAAQlVeFknawkifIT10lX0HnSFBk+Dj5aZzEAEjCYgEfUd0TjAr+FqxQGMt4ujoTk9gKKpA8wP3dVFfEoHHdX5Ofuqp9gcoSZ7FKwVzptSRGJi384RAicotT8AsGnQUrlMcyHnbV+CoGgPjURhGLLsWjxPmvaOxHMioIAS5zrcQAAJr13574+vzBgwfPXz71wYljQK+spQHgEzS65VETSjOl3UcADHoQ9rYmt+3GeWn/+PA/z/zozOcnh46ce//mz0+BHL80GoP46eHPOY+BY1ZyAFTxn+lwGgB+8tWFw/84efLku0PfHPnwl++/x6YJJczCDoAlHpLAoPADBhH8wXCWcbnuTEx1eOokBkCiMIV0FsMrsWhCw9gB8ALhAQhSKLHG1yKc7SzjaqNSyKhpJQYAQ6J/okAAHGC49MWwA2CaXufXzSL7M6Ok+bVw/U+mxvOREgOAodqTXiAAVPxHkyZAtUWWGr3l7Z9n6005EkwWl4JgKi6ULzEAbPyHZhMIgBr+owlgX/+VMSQa6Nli9pYKux42MIyLw0IHs7xPksQA2B/Ee2h9AgHAIAlkLMX3+Nnz8StIjT8EA4UBAiark2Fs2QKvNuESAwCGqhCr5zzVy/BKGv6D4VNCarPaz92J29+POzwU+uGfGtjLDoF6hrfmEDr7WACQJTUAFMYYAVs5Sxd4homGqrs7k0+dJSPfjjwYh/W+PFWOXJp8yHuTZq7Ix1LjjuPMRbAAIExyACj28CzaUSrwQhQteIYHRoX0/3KMvLnFK0HMwDpTLDXuOKnU5SwAaJceAIocft4tp+Y3THlHjeGHBiLnw8L7Rs68fe4VBZmsE8VyoefcmQJZAJCn8IdVxvEYWrDAG3GGYADc9bF76MzixMqAiABgqHGnD6SHkVGL9QsAFIE277eBcmH8UYjwQ3a7l8DY6tzV+SeTL4XUEx+792ryvueRscvVrTz9pWwj96koFgCkKvxkhnwvIzNz1TUMNZ9ZLrZAOvEcNPEZEboXONauevANleyzVH6AT+FfPVntM4WhII42wF8AUEQlUOEdk6/vAa5cMN9DID2XYQwgcv4DIPiv+9IbduY7GCcQFCguDmjxUvs3ye2NS/hOVlB/hsKPFuEejK+z6YqCyz0mq+wx8+CQ4rqZqp5pPANg2fn3Gx/LgL+Yp4RrGK2k2kzdCLQmT7ldmby85t4yhX/NjbMMR0Mn5c34fhii1zCGXoCbPec8xqFPINwtXBbonXr4tSR3tru3Agk30t5Y2eqtcUitqdjP6+9OWZV6i97lptJeK9tclOErAm+Dqh++txnlBguDfJ7v4tBW8p0NKdhtuwYj0ON6MhR+N8hYxPAYU4HGw2ulN+wXFHYN9QiAneKfr0VtCipG1kgl2xUuupPiD8ZbZbD87hdWfqxUs9vrNAgV4wZ6PAKmfSaGFh54aAoaL/qe2c1D8ZBb6O46VZRGKWRhKWBs/ULYGyEMy870kANwOn0vtv8e5O3xr809mnC1krjyxP58zK2WvBjSiwJiwMm8noGOU69SIRsDhCC/6k7VbgCIEGkAE1vrd2/774f81n90Sxg4uMCtG7PigNFiUQKvdexhLyjDbJDP+sPeFgnCABAi3Lsi/YmnYAdY5rkDOJuG7CBg8+SfegCOAFECr3k0spxuDT5oJnfbQJg/ztxpLTWE5jAeAT6IWkgm4ioAwBSy6NcerI1vx4evOIVhg9cIlcj6MTAvtvjKxi59gfPVLyMAUOiKmMj21P4ekzq6rZiPE9grPCRBxhgmt9ZvhgcAVjdU+fPbx77DGQhc2YonjzpvfysOrmo8yGy2tba2tPRZLM3NCSqVSqfTNVVXNxqNpo0sRI0mV61WGzatLJi0AIN6I1uxtElFKMVDKmILOywJ1iZjskZtCFbuC00rb+vq6iqIWreCrq6ctghlphHSgp0yAoDXdoBBtVmJ5v766mR1mbJk/d0KctIy3aTcIUUadiut6YuFHKuzFPwCjyNgbHNph7c3/Zfb37Dl+11z5otMPbbLzywyAkCDvKbmNSCCMCdwnDj2Z7f3+kdbx4LjoV221i0jAFjkNTXOe//sAJ9r4F0CAQtTzme+c3IJU7IFQIKMAFAvr6m571zbh3yIIMfW9n7nIigZ6qwfsPRYrgColxEAmuQ1NVOAwb+FXv7mnOfGKEn6PXaWEh05KlMA9MgIACaZzc0YuZa4RGz0PuH4XdzeN5YdTC1FJTerjABQKbO5cd7jfyCJIZotko7fTv8w56kwOyFPAOhkBAC1zObGWQp+jQwOUUMAt8go4g7x/2RrTxi7JUsANMkIAGUym5slMhjw0gsApreP+e+JM2FnT1hYliMAqmUEgGiZzY0zijs6RbhzdHvqfG5gHHSPuO6pm4BMrFFGAIiQ2dy82m4Ec/XZ8N3r17xGgS5u3/ZvTINMwS1B8eygDAFglBEAAv05EUFx2nAgTGZWge70i3i4SQiN7iz4443TZHZRjnSQSUYAAA1E7LbUvN58fs1VGC2kNqk3b6+to7teZ0zONUSXtGWkuMejJ5nTQHak33c294t7O5f/GyOOtWdyPAFkBYAUsNZOaVdUW0m0QWOsqbe06vPC8uNYERFSlx+Wpy9sae5pMmoyg6PTAmkSqAqPXDCDuY79gcGV18Oy9PpkDABFtkcAQCvuSttXlptc3dPdYY5tT4oDbxRetbeww1JfYyzKLYuOaGMRCILMhKO3R2YY88EmeU98WF+zat16dDqdVaVKaG62WPpaWlo3+sUkJlZVhIUn5dfFp4f8fwEgnhcAgBWBNyoXNRw5MDx5e2SaZ6L4xbd3eU883yjcOwVdbeURodF7ygzq/ZXJxsYmq6rZ0t+wjhRRDsdSOQFAKwQAjeIBgJ5zuLxydW5tyYEBYXZ1noXvTxR9wyQtJr1Wm5QVtmUVVWFZ4fna2riQIFkDIF8IAHrEA0Cj9wDRnflHcy8Xx18sQCw4GIm+SPEBkNhZX2PSGDa0MlEptIeM/3M7QKd4APgvdef+FmPaB3BKKMcklcNUKs0bpbJFLGuxqBxymOm6dCl0dNgVoyKH3ZXdRN7kEmVbsVTaMkshOjisQ9KrC2n3Bz/6R962mWea53ufZ555mv3+xjN3cz/zfJ77/t7fo5At+pXskGAUjfnwilYcAK5aGOHezguABziHTx7PU1MvUjkAPIQeYbc1AG+FN99YpQHgRErjrAB4bkL3NPf17Pqqi5T7YT2F1KonttUHk2S+0gBwFnoGYTczneTxR6zC5727TWXkO3iGKvhmTRZ5gi02VAi0EhelAeAMNJ/pjMdArSuljMW60QGUoVvhx+2p0K8ReoQ1hLxPPvFQGgDOXKORzucLmLSaYe/YHCZwcnOPDLFZv/IXavJu5C4TjVvagpUGgDMjxsPZ3MFjAzl23iX46hUBW7CfXhZn6wbrGfPlBs3mr/h0gQfkXiFMCVUgHj/UpoOl1rkigsJ4iz5qMEt7eCTx/VoSZU8f7ACtx6CxOXFrQqBm7oSJk6e5kwNGBoUV9evmPW7OOs3CrxMHjuorYjxGKfHbAQA4O34Bj8vwZgZNEWgZ4uUDfTgR1BY/03xiFZ3rPzZZFzdMwMig5xfzyKdN0KyJi/cftMxEOODHGwPXqY22cOM2d8Xw1YaJFtpydRPltcK0rJLBXms8lJ6xzFLx2aoGBPxuVxcHF90YtQbZp/iKPAUEIUbJ8RuHCYCNoo5d60PrKI6i8W7Txyr7q8v+ulXduGbwxY5uvRK8PAi9W75Mb1ecRpI0algAEA4Bchs6tQZzNg3w9VNwwvL2K1Zhwo91aqpWwfHeeFWZemA2bWRbSUrp2n8DADovi717ITc0mimKTVhejaJxyBNYD6bpyPV/o6s38WbnRNE39Nlknds9TvsvAEAXJY0VsNq6KVQEIdhFbiiqG1oBKuXf6O24sktanyDqzc6IoqwCUd60od5L1a4Wtdb2+IUAkUE2lmMJ186ePzZk8WAwmmbRZERjtcoV+xvqq0tnxQY44hdLZOvNm0lVsrTMVXPeYqcHQFICooWOD3xGoLUeMaOjVo732ZIwfe6EGcuY4VhW2aKfcdvVDN/1m2bGzA5XbsXcwBciNhV7+lnMU2nad4GTA+BvCwA0I6nWL2ppXKTvhHGhwnO5QAfAsgMtWxcYt2qxX6yd521tEvcUvRKRxXztdL6h7pvCnRoAKZElXJHoG7/AZTrb5QkfAEOPZdyShKSVYfNtOnVHr/QWYl7ubAzwD+JfL/1UA8AGJfBLWwAgnsqn6uyRu2QdgC5BEzWr4xe7iGjdCzYLTs7L2mYySaTJji5yOA1B6cdyGs6VHrp+fcftnQe2o9el5mFCfTCIoRLz7AIgfahx2FOb/kDQ5sBE/5E8B/Bo8ZXKzdKVKuBLse1NvdqRaDubfUesW8GnZSEfGE8HIDXlYFlZCozO9SZNIMguAHTVREOQkEzz9WEZLGNt+LMWw2Ck4ED1SgdGIN99RS+THOQD8QQAUgobvt119bAZnLP5cjMXaQJ2RtYP1QM26uwUhrdovh0ARIjeZaJqAHiyADiHfGATgZ0i+cBC+X5IOujb+dSMtscDQGGYDrENgLOKc4oa9l+5WbXvu9qSFOSy1GzXQ3Qu6hUOQx/AdvlzPI58wJUPgJvy7ZB7C7IZgB47/5RWxAlhknL5LefC60nmsTGic1GxbpQbA4CzyOSWEwDYJx94SH41WrFTiEVaOpr6rLoHGzvsA4DhjQvDDNkjv+VM0ouMZDukntxTdS/7hz8OlGbfb9hdkE5StJ0AAH0ZCQD48jZQyfG0U7V69eZJR3d/V2fT67/a7ryr/PgYTRJ7aHz84m3j+44W2wBgHAWiMEPAored9CIj8BTKBxaTbC0qCNIqbr+etpdbYQ0B+IVKDkHFQkqSvOnu6qxr/NR2p+/d35UfB/tFPzNWi2UIVzQ//fCpqf9PscKAjOglXAU9cMs/kQ5MK+CFTPnAIpK5XQVBTNtgJUcn50MwIcCBtTzBUhAA+9tCWVeLuPHy89vG9gt8NUInifihTXJTfsdX4XWp/hdSfe+MfGA20ePqeAlizA1d174hAADWQ/0+nh0WAtCU7AAx7Q3thm1UABg+GFzr+HPyOz6RTnCbRDHesl3w+gr1AEDM27vBcywlqbYQgJ/BwHs8OywEoC7ZgVJzo76vp91A2BkY0YvxbAAQfekLEgBgn/0NXg9RDwAkH6gW3NROEgBa+r4GdsRYPgBeJzteqptfPHr/RhSATRwAFBBWcmQLOA0G5oPrKjYQ/grO7SiY20X4gTgCAJCc2zw7LASgMVkleXjjA0glYmSyLOcAoJywko9hKA/6EnBdPW/gCCQhNEvP0GziCEf4AjAwg2eHhQD8layeVMi/mhG3+A0HAGfA9dG8ANTqhGBUUpBs3PQT8rldhh/YQAAgF9zUYZ5bggA8UhGAZLnliJErnIgB4ApV79XpZpGOgRCAPWIKqZKCumP3MkyBJADywU2l8bxfs8EfaVMTgCYRADZgAKgCt1wFrsfwArBPzCahpMxA7uo27UW28nAgwUSHaZqNH19EkqoAfBLZd3HR/ND0cRpcdyFZAqG1bb+YWVpJmYjcVSkDgK0kAK6Cu5J5x8by+QKU3gJq6vseve4jXGwTAWA9BoAzDADmk3wBDQxji4qdpNHsHtYZdTUJgOM0AEbyRSQpDUD/4F99Ifu/ax+e1/XcqTdKPWboiEqyBgNAJgOABSQAvgMD74PrKkaFTmDd1V5SlAPix8mmATCLLyBFaQBMbWJeNcvKyZm/y2DAbtgEScAA8CNDB5CSqEJY1jYAgJuKceFoolKJZVpHvj+1v/wgNwDQG5SKOxEx4hHsB8D42tAi9YobeNtNhWMMFdYrAL6eHAMAXErHrwxdbi0JgHI6AKEqAoAGq6aeKs2+dPr87pNl9IDFWPrScVZu4A7jc0d/Uuidt/QWqTAFCnVdI+79nNY3XFB/CsMOoCUFk0CbyRUQoqgiAL7CfvM1hBOcruTIgFy+evF46c2iQrhwjOFzR/fYb94Z9P2lV1qCRbchFiYj1j04i/5DYatXHaYHUEaQACijnwLGqQiARjkAqEJycIYq7gswhYaZm8YMyDsdogg22gAANoHB6uBz5OrO7FyCLjcSjtuWRt075qkIwHRhABJsAmAmnzNKAW/gM9P7ffeBvJHQq/9ZqYE4x3CI6F75j9382NG8wry8gpKyVMxViy6HAKC7TLUEzlERgIUqAfAfPlN0pwKav/n9lhS/hzW9iCL4HDPD0fQfaonwD6VzJwNwUb50/Cq/ukhFABKwU8/PLT5ZWFteOIA2EQCxBlP+fIaodgUAMJqDAlulQDJzt7iuocCyB+nCACwSB8CSDRNDWjrySsryMQPnqggAtG9knb90KOMIxVFlIwAr+ewQrUoc/iUtv05KHKtPh4pgkzAAE8QBWDbCxrDwqSoCAC2cJ4F+qv8Wzi6SAEBqSWZV9oFdtzL2/nb2csbF34ux4XGMrbVbkYgP6aDfB5B4QSwpxQZgojgAk20FYLqKAGxlAXCLE4CyNGos2VK+U4hBEfvfO0nZljpNXms3ZRIMWQS7RJVAFID03LzM8/tvnrt0b/vpqqKcYmS3nGErAJEqAhDHAuDENj4AYDgAsCHH8ymhLYoAcK3f/Of+lDKHzK3EDdVodzFOAFC36TF4x7t1BGVeFICvVQQgiQWA/hj4xELzyAUMAPRZuBwJlg5SowgBlibCFgug+YG/l/59zSBoB0ADJ2DwnP4HHUGZh3mF0tJxaXDpKCgjOVzVEFjrOw95joV8ACDvgzzfZTnnFmRUxgnUgwQY9IB/twkCgDYyYO6WcwkAHNQzTMiJKgLgSnQFSfIz+EQgLwB7cNkErFC7ZoUifw1ADXhYY/qf9I/SSVAQALSbBvToIKETvgQAoA8JSSnyURGAeIaVWq//hQ+Ag/SBSYTvHw/++kuF/MAvpU3Asu2bS4jcvWEm4q6YMwgJn0Z8ukh0t4agAxTrqfGzqiYHIwkvKchd3ScA4EEPCQSlBUjF+WEPtUqlIgF6oHX5oTkVoNukZtQIAjCNA4Bc/GYJAUAVbWCXUjE5eMQqeLZJYxkCCADoTuhp58AthO+HEdPdL5qfVVRXVxhvPGh+XP+08vOHt22fGl/XNXW2t/b39nZfuNBhsJaOCybp7e3tb23tam9/39nZ2dT0/PlQC6EWQ29ra6+hRZZ78AxpMjhWFIBMBICjeLcZNAWX0/VlVZOD0U6Nl+HkTnECcBYOPIQLJIMyUqe+PE2uvoPmkDOigr2RATnIc8zDh85AdzAKQAmf48QRgmQ976A+RyszFQQgAw68znO0nTIMAGzD5gszkjGC2EogPDBtIABQiwws4POdO0K+gLd1AE7udwIAsGrSLjjwe+xyyEgMGD5hJGOgdd4KkecIUsOSCAAUsshRMTkYTVw9R32OFABKqbotyboZ7DQAMOoDoDWCi1kAWE5zIfRYUiSUSMXkYDRt7TzdpEsGAOZJyXOKFvL/sMMkjGwcpJQKxvaZQzjNjWYZ2zKFDiSKShgr1BlJDNAQAChCDjdcDq55zgIAIxvHjRkSijzHpQQAEEMQ9CKomByMRixnpTHsWxqC+oYubKk4o4gCkTaOEXo2Dq47wgkGACsJb1kW3WjKTFRWVNDyd3tpLzIFAPS2UnhiHBKc5Pm70UvJ44rjZzBeZMtpbgU9JBQBQM2OAain8r+WJ7/39h/3i34s4wQAtSAcxNnFoSx3EgAYTR9xJU2PMwCYSQAANZkAf8tsFQHwQ72c5QNy8uixrHR6vBICwE7ZxrHj1Ol8njC3KCcBgBGLjyuNnc3YAsaQNO1bDHfg/9k7s6emsi2MXxwAh1YcQZkcWlvQth24igpOCA6toPRNHqBICCSEGUKBzBIgYZKxQkkBBVVQWgVUUbzo/3flqjlnj+ucVFjhnNz91GU8dnbyyx7WWt+3MDvI7dH9SZ0UPTnm8/m87m8j60P9S4xv7mvRGzi6SwD4Tf45Xec8Mg8AECuCfBIAAFEcrN/HWAyAdGTrSLRHZKTJPydevKLNM1lRvj1WWn3usvqatveCBDMdbfsKbAGI4mA6qathJIUEQLHwHdxJeVf46mR28qGL+yMJANBLvCiEfzJeFG+vlx8CMcXBIYRiQwNAU9uwY1cu3D5+JiY2LiUj59nhvYn59/558/zG3bMnkx5kFx+5lvDo4alTBw7sDCcp8rd2JYR/co8o5z3smewNLh0T9TUD5I6JKQ7md41qGZ4ZW5wIjHtaHd+HLRwAJIfzTf957HpR0YsXFy4cPXjw+PH4+JjU1NTY2NjMuLi4+ykpKVnp6el5OTk5uYd/jHd7lZGYn5+fuP0f2y/kfv9LOekZKXGZqceBhmKh2JoHnQdz9D13ChMAhuxuf1+nNMudJLw//LzltvR0t3fNzHR1qbnG1Dui/VC0Zhdy9T33CHNizOFmCApwXhUAUNk2NNLQ27dq54bGEwwOQCgtg+6I6t6AgfpjYe636wwA69oAYHMj89qv2bt+cM5KU4PzE26fx+9wtPo93kDZYqNNcJ1/Zwn/eSlc4xx9pBqBigKv8ktdGdcL0gX9ocEB4IQrxqDCnuB1fq8+AIpRZ0anOcusQFGgCAC2zGFS9epp8wHwmZnwF8F1PlG8dPi8gYXFRlJ99QB1Zn+AAGxZuG8vHiyRK9ceat/147aGSLDwOp8PhAGocuKrqDM7DdV10EWBIgDYItnlSN1tcSKmW8yE6wXXeUqA+Y15cIAba8UZj6AAN90x4IEgj8gCoPaZPmFwADh9Ix3SU6/6Ok/5DHuBi9ZZ1JklQCVhohWABoAtkl2NVHgTB4AVZsJNgut8AUROo0VL/eTODFr2zOpd/Py8Hg0AqysmigJvRR0AynX+CfTgNPH6c9SZ0WbBbMXiuDYARqVbAGqGawcGR79QAWwBynWeqnoqB0ItBagzo71vWJHnJz4AMWCNJFEXft3YAHAyH63AD1m5zlPNw2cBAApRZ8YUZXbIuQ5m9mPAB8sjVeSAA4APuAYq1/nz5IObwPXhLerMGAPEDaBaQQiAXFRWZGwAOKmvT4DARymDTIP2DvIQ+Bh1ZowFagCQPP6qnWLqicelIcR9pgNgEQgFnxR9xn5AUfISdWaMV2wtoF0WArAuPRS/MDYA8SwAzH3JTpaEnRetsg1AICgXdWaMV+xU57bgofNjXV+vL9BU21Zl0QjAgLRK+o7pAOgGRHQ3ROesESAUnIc6M93CjGIRADZVIYl9btNb1hKpWvcdGKx+wmL7IA+ZKor4bCCNSFnxZaDO7EnYALB01dSOjdW6ZgZGWyrF5THGHDwji1l52wfF7K0YSJwv6ypPDPMoCBWASyEWyJkHgP76zwHv1qSjwuH3jH8dme4R1RlTLqOldnm+NQ51ZoV6AbgcGgB/GRuAVP0VYfnCcPuyvGFIJurM3iIBcDzqANgbfJhOuHWtL6iWjqbpZoGgBGUkimdQ+b6qebS9/31YANhjbAAu6QfgcPDhR/oe/DfqzOh6tZJAg2+yd3PNudrJb4f4K8cRq29WZ6IOAMUh//Ru/q3QJcslVqnblwSAocH1poWv7nFPa8Vmn3Ou44MrcliHfcTqB0BpknJxNx+XaKdIixWwwBUCwBhmeNSvxhgbgEz2eyqlB/V6VvBhnT5It1Fnlgd+j2QPWDEAndJ0cKrZAGCWSjvZI8VyP/iwTjUjbswsA/weqRxHsugj6ZRa4F4yNgBP2QUAUtAEb3OUvUwJtHTgpk1S6Il9BLKcQgCYegDCIybTbACwlTMB8i8EkafUV4xRqJ0SlOBmzu/TE6sDTMyEAHyUtox4amwAGD9FToMEylU5eOr5HRJQDJJ/Abd4ivkel4H3JwSgTqqUiTM2AMzvhFMD2Sq4+F6Bym4nyL9wLrIX3FmgZcQ17eSol46bxgbgJpwNpl2Vg7HPF5D+mhTfIUsoYkKtds6EyRmMWIoLAYBhqRROfZujpOWNgPgOWUXH1DqxBUsLXACegsWExLE4y9gAMGdljhp6VnCbOwoBQBYSIOtomYL3BkAfLgSgVVonn2E2AFgBRZ/gNncQAqCCeB3ZSoFRPX4DrjcJIgBYydsINzBqyJGlH4Dgbe4vCIAN7ikbaTDC9ybgjCJcAZhyYmuZeQDI0L8FBG9zeyAANiNnEMIxvxkEtGFCAD5LNUV5ZgMAPAQGb3PxkLPIJrfqFmkwNmFsnMKrbQtYl3rEPDMbAN3A93hCdNGqBfKtuAYhrE3YMBDhEgJQK907co0NQLqGQNCG4DaXChkpVAgURSiDsQljeoeuLmgDoF8KwGGzAdADfI+KLVYstMT2Eq+nIU+NzlWWTG70LdfVOddmK7YCTUNtLdTrCaLo+Kj08PDSbAC0AN9jgiiR1AXEAc4jT01v1yYhAFVKJUGHc8U7MtSt9s17ZzYASoFcQLIoj9AOPHgDeWoXwwXA989kqmdpaam5xSatkTXkyIMLQqiIbrEoiDQq9dOzWF4hT+1h+ACQjcdmA8BSOvplaH1k4pM78HWiabqmv0fk9pcFHLLI2jlhk9WdGodwAEg0NgA6Db+Jw3w6tHd4BZIynJGMA0B+tAGQJlw9fiwd37aXjrLvS8dAM7l0FCJP7TIOAG+jDQClV+qz3f1JZeMAcM/YADzTDYBylsvd3Zsl4xJVYisttYUdgMJoA+BN8Fmd7QKw70tJpOtB78/azs6Pztle//inpsEqPgD39U3rn2gDQCFeZ7sA7JBZGnBEpZvbH+IDUNkY8G75/Z7xhk+f1xtdXcPNpKi0wNgA5OoGQDn16mwXgJ02I03s3luhpugCANjIqLWdvyKaAgDbgKumuqttSdRfVb2SJ+oDADtxfgOIb9E+gQIA2N7R1v5IhjfCEVMYdwAACipJREFUPA6L6qY+zJX7A01jXT024UqeH6qoFGc8gaSBg5oAKAWWjufmAiAA5ALVK/nfZLq9uqb6y8Boi/CcjV0+WwAJvBY1AWCzyp1TX5kLgAYQAOWHXMgXhn3sczQsTFd309JAbAUF1c5iTlraqQLgpkXX0nHD2AC8pGY7DgKg/JD/Iy8HsVJrAbaGitqhnJBwSQRAh1wtezfaAFDU4W/kdVM0ANgy2sfk/75PWtknAWBOrig6by4AvCAAmfxTViMIALaQngpTbEINI0QALMuXjrPGBuCdbgAUR4zn8qJrGgBsL5VcSN/j0QbArFxQkmYuAHwgAMHm8aQb7zQIQDzy1PKgza1VGwAVckGJwQHYqxsAxeuL8OOuBwHA9lOjKt4noJmJAPDIy8lPmgsAeAs4yI+1roMAYDsqUl/kNCR4eSQAICAvdUsyFwBuEADFHZtoyTAPAoDtqfoUcLCxrvEBoLOB8/Iy6avGBoC6K3H6xdAAKFZPRMOQRRAAbFdlSrbAdoGv0xQJ5DifbJoYgBEQAMXqKUnfGeA28tRiIKufVW0ADMvl0gYHIBGU0NIAKFZPV/XFAbA7K5yR+gN0zrq1ZQOJhiEco8gH5gKgGgJg/7ngsw/0hYKxe6vQFiHvh+a/ub0+33hgZHpmtIRJVokAYCIIHR4TA7AEAaCyenot95WgAcDurnRbZ6XLLwCYmsBhR9/c9ipg73BueBdqR8lSidfmAoDdKSkAlN7hZHPWZhAA7P5qF8IFwM+KUkGe22wA1KwQxpgf1sosAnEw2TKosgMC4Ary1F7glIVnGxsAXlVPaXdXTeN0/eBYddsUs1UqvcOplkFbEADYPVaLcAD4zXwASMdl5VlSezXaWqduGmWvc1DwYHdZPvZ/AHYCANWKd41+zdbT7xqbrp9udPUvsTvmMey57UcBoDjKAFDFPXTKb//EntsBFAAuRxkAquSXzp5R57DndooOBCwNuGqHGodqXf3dU2zZu9AmztQA6O6up6qA0ufAsB99bgSgpQEn0deyc81dyV8BBABU2kq4f34kygB4Jf6FyccJ9LldA0LVPdpWgOZ178pyx/9qgztXlzd8C66SaAZApYTSZ8LzB/rciGtqEygNEwBQ2iHXBSSbC4DqgGNzzbm8Ntu75R4Z66+SqaH1HbIuos+NiFSyfq+E57cYANY4k7AKNhkATC6ozl0i0ob+64QuAE6jz41IVpVZAa9oEQAD7IN+QWTMBABwFspmocpffc+udAUc5T+WDg9/6XiIPrckcTKY438oAoC1PyRLicwFQAOghVY7o96Sls04A4JcC944CwBQxweAahkzwz7YWcm5PJgDgEl2ti6RyJsItS6wDwoMOPDGXXlRsNVO7m6CrmFshYTVOmUeAP6G5DO0iDqDDwBbTWztFmaRkMZz4AxAfI+6ABiI6Mq2kwCwCkqqtZZK43td/ccOq7S5XkROywXALYDa3ZI1bwHEPdBcALBNMqnOSipp4O9y/RRtwIEfMCmUV7vSu5sOABY51eQGHfcgLTx9WVKkgUXSQiKm5TB+1iwfKFu3NmoB4Avnwa9mBYDjpEQ3jlUUflfkInqqK18E8uaPAe0iFQn6BQClJ+jnPOiN6PV2BwHgOGLREso9XAAq7Vao5zR+9SzhfjJmhXa3I3wA2jkPOswKAKeyky4KVaSB++ROSvTega+hy5Pre2iHiF8AXAJDwYSq8LSZAFjiTHZFVN2vLrqc4jxIye/xZdRZ0Fbu5QKQagE/E6dZAeDRTvYMs+wLPqpuzNcD7x34Xjr3oZXcz63soADgsT1nVgDageWOKO1U192PAhulJRJ2asRm3gO+QwEAvN2tw6wADMAA3OICMGwFcy34lqqEOrQKfIfFvMf4V2N7NAGwIarr+W97Z/bTRBDH8XKUAq3lEigFCuUmFArlEGirlMtyCGiEB4gnSowJhDSIJsqhESGGeESjUaMJxCdffNH/TwwWd4bZzs4+7La738/zTrIz+83M/n7zO/ISJ4bRPw/aV9UmskNZdsptpp3aTQngkDG3RcNYAYS3TMF3lIR1dHKUQ5kPE5rPzc/7jgfMgHdaAN/mEma9GV4AG3K3+rkcAVBHgPbNlfI4xb4oicaT/KiWyLM/GHNbN6gfgCWAV3KXujwBUD+B2nfYJJMDd3gSDbJODmaRKEIAhnIFP+Qayw3sHfYZVzk6dNmu4xS/oSQqJ4DfiY8AQwngMdddFmQL4AH/EqFZ87m1znJq2Lxi5jylUwJgDJybN6gAWMbyNTmHrp+zdVCuYJv2kyvixPZtKxIAIyJk06jxAEucu2+iMq6fs3X8ItexXvvJEZkrC5scica1TZeWeZLYEZTiAiBjAhcZTo+Xcv48P2fr2JO7R9YMMnlx49RnfMsUgH+W6wj4aNigUEZIGLlKkh5ZhZyt443cNaJmkAUMdpe3d24d3Nw64v3B2v73uwvstNdTAthPaD4YKzFkjRfbOcEWAGvruK9vkTALVcOGi4dh3h6fb3cOJZXiHm09X7lu2NxARmJIjHhggC0A1tbxVN8KMRZG71B1AjgufrEQi62uxhbmjV0fILZFV0X8KZcXQgqAERX8Vef6EHTvUB5uhovbjBVClnbvrXz5/GH5iHd7L6gUamnzv0JO0O26zrmhVGqQ4soHeaaqEibY/FHa+40QwGt667ixrXdeCNXRQrEABOsLTppLADYZAfw9Po62jk8nW8dqEqzTqNDU4iFLPWIrEjSXAOrlBaDshNXxD1dh7ZNMsRVxmUsA2WoFoEeL3TFVbyhYYNJtLgEUqhXAiA6TGxJ6w7iPq01sRdpTWwADggLIY7uC+YR1mFyF0BvGi9+0qi6aZAYBSEp+5woN7NdhcllCbzgTH1akSjcmEYCk4K+YvVymw+TKhN7wJGatRN2w1CRDUAD/o8IF7eVMHSbXo+6QKhcaFkptAVwW+/45kqFC9fhzqnWYXLXXynuvWrtz0tN+tdTRbDvpaBK2CkysKC21BSBmKREhsEL2sk53ZtNpzRlTF90eV0swGGxxub3jkdGpmYFwVcVgZZm/ZjrAHJUeUVAF12oPto8Mddel9vcnU6j5SC+/m4xsLddkDU+dczXklzT+2w6sOcUXfA2TZ72RvrGqwe7caKvFEITV+z3rzPKrFCgoCFiMyrCYAKQ53kIOE5sFJCVizjIixTcg8q/Ug6VOTrpm1Xs9apP+HxBwSSsXqvntkI61m8ZbYmiqM9MHQyMRd29+YyJz97zTNd7nIPr/9ir+/rVRrHNK/O421RR2Z9k6uqqGHQ5HOBQKNVfYsirLOqNtzOOjWIG1XOJ0RRydWFtjCsbfP9Y37mk54yz32X0+n9PpvNLb4vGOX+ordVR11GfnRgNYJQAAAAAAAAAAAAAAAAAAAAAAAAAAAAAAAAAAAAAAAAAAAAAAAAAAAAAAAAAAAAAAAAAAAAAAAAAAAAAAAAAAAAAAAABIcv4AZyMtqeT132QAAAAASUVORK5CYII=&quot;});\n",
       "        marker_2315fce5f24682212673a20997bbe2e3.setIcon(custom_icon_39afebdcffb86c2ad90e4eeb43f8ec83);\n",
       "        \n",
       "&lt;/script&gt;\n",
       "&lt;/html&gt;\" style=\"position:absolute;width:100%;height:100%;left:0;top:0;border:none !important;\" allowfullscreen webkitallowfullscreen mozallowfullscreen></iframe></div></div>"
      ],
      "text/plain": [
       "<folium.folium.Map at 0x168a97050>"
      ]
     },
     "metadata": {},
     "output_type": "display_data"
    }
   ],
   "source": [
    "# create a map centered on teh ISS's current location\n",
    "# map = folium.Map(location=[iss_lat,iss_long], tiles='CartoDB dark_matter', zoom_start=3)\n",
    "# map = folium.Map(location=[iss_lat,iss_long], tiles='CartoDB Positron', zoom_start=3)\n",
    "map = folium.Map(location=[iss_lat,iss_long], tiles='stamentoner', zoom_start=5)\n",
    "\n",
    "# create a custom icon\n",
    "icon = folium.features.CustomIcon('iss_icon2.png', icon_size=(50,50))\n",
    "# add marker to map with custom icon\n",
    "folium.Marker([iss_lat, iss_long], icon=icon).add_to(map)\n",
    "\n",
    "# display map\n",
    "display(map)"
   ]
  },
  {
   "cell_type": "code",
   "execution_count": 35,
   "metadata": {},
   "outputs": [
    {
     "name": "stdout",
     "output_type": "stream",
     "text": [
      "Number of people currently aboard the ISS: 10\n",
      "\n",
      "Names of people aboard the ISS:\n",
      "Sergey Prokopyev\n",
      "Dmitry Petelin\n",
      "Frank Rubio\n",
      "Fei Junlong\n",
      "Deng Qingming\n",
      "Zhang Lu\n",
      "Stephen Bowen\n",
      "Warren Hoburg\n",
      "Sultan Alneyadi\n",
      "Andrey Fedyaev\n"
     ]
    }
   ],
   "source": [
    "# determine the astronaughts, cosmonaughts, etc. that are currently onboard the ISS\n",
    "astros_url = 'http://api.open-notify.org/astros.json'\n",
    "astros_response = requests.get(astros_url)\n",
    "astros_data = astros_response.json()\n",
    "# print(astros_data)\n",
    "\n",
    "# print the astros that are onboard the ISS craft\n",
    "print(\"Number of people currently aboard the ISS:\", astros_data['number'])\n",
    "print(\"\\nNames of people aboard the ISS:\")\n",
    "\n",
    "for i in astros_data['people']:\n",
    "    print(i['name'])"
   ]
  },
  {
   "cell_type": "code",
   "execution_count": 36,
   "metadata": {},
   "outputs": [
    {
     "name": "stdout",
     "output_type": "stream",
     "text": [
      "User Location: Rye, NY\n",
      "Rye, NY Latitude: 40.9808209\n",
      "Rye, NY Longitude: -73.684294\n"
     ]
    }
   ],
   "source": [
    "# get the lat and long for the user's location\n",
    "geolocator = Nominatim(user_agent=\"geoapiExercises\")\n",
    "# city = \"San Diego\"\n",
    "city = \"Rye, NY\" # store readable name as an object\n",
    "location = geolocator.geocode(city) # use the geolocator to get the user's location coordinates\n",
    "user_lat = location.latitude # returns a float object\n",
    "user_long = location.longitude # returns a float object\n",
    "\n",
    "# print my current location based on the city variable\n",
    "# print(location.latitude, location.longitude)\n",
    "print(f\"User Location: {city}\")\n",
    "print(f\"{city} Latitude: {user_lat}\")\n",
    "print(f\"{city} Longitude: {user_long}\")"
   ]
  },
  {
   "cell_type": "code",
   "execution_count": 37,
   "metadata": {},
   "outputs": [
    {
     "name": "stdout",
     "output_type": "stream",
     "text": [
      "Sunrise: 2023-03-13 07:08:13-04:00\n",
      "Sunset: 2023-03-13 19:00:11-04:00\n"
     ]
    }
   ],
   "source": [
    "# api call to GET sunrise and sunset times\n",
    "sunrise_sunset_url = 'https://api.sunrise-sunset.org/json'\n",
    "parameters = {\n",
    "    'lat': user_lat,\n",
    "    'lng': user_long,\n",
    "    'formatted': 0,\n",
    "    'date': datetime.now().strftime(\"%Y-%m-%d\")\n",
    "}\n",
    "\n",
    "# get the sun response\n",
    "sun_response = requests.get(url=sunrise_sunset_url, params=parameters)\n",
    "# get sun data as JSON\n",
    "sun_data = sun_response.json()\n",
    "\n",
    "# extract sunrise and sunset times in UTC time\n",
    "sunrise = sun_data[\"results\"][\"sunrise\"]\n",
    "sunset = sun_data[\"results\"][\"sunset\"]\n",
    "# print(f'UTC time Sunrise: {sunrise}\\nUTC time Sunset: {sunset}')\n",
    "\n",
    "# convert UTC time to New York time\n",
    "local_tz = pytz.timezone(\"America/New_York\") # FIX to auto determine\n",
    "sunrise = datetime.strptime(sunrise, '%Y-%m-%dT%H:%M:%S%z').replace(tzinfo=pytz.UTC).astimezone(local_tz)\n",
    "sunset = datetime.strptime(sunset, '%Y-%m-%dT%H:%M:%S%z').replace(tzinfo=pytz.UTC).astimezone(local_tz)\n",
    "\n",
    "# get today's date\n",
    "now = datetime.now()\n",
    "today = now.date()\n",
    "\n",
    "# print the date and the sunrise / sunset times\n",
    "# print(\"Today's date:\", today)\n",
    "print(f'Sunrise: {sunrise}')\n",
    "print(f'Sunset: {sunset}')"
   ]
  },
  {
   "cell_type": "code",
   "execution_count": 38,
   "metadata": {},
   "outputs": [
    {
     "name": "stdout",
     "output_type": "stream",
     "text": [
      "Status Code: 200\n"
     ]
    }
   ],
   "source": [
    "# GET the TLE (Two Line Element) for the international space station -> we will use this later to identify the ISS\n",
    "celestrak_url = 'https://www.celestrak.com/NORAD/elements/stations.txt'\n",
    "celestrak_response = requests.get(celestrak_url)\n",
    "\n",
    "# API working check\n",
    "if celestrak_response.status_code == 200:\n",
    "    print(\"Status Code: 200\")\n",
    "else:\n",
    "    print(\"API Error\")\n",
    "\n",
    "# the TLE data can be accessed from celestrak_response.content\n",
    "# print(celestrak_response.content)"
   ]
  },
  {
   "cell_type": "code",
   "execution_count": 39,
   "metadata": {},
   "outputs": [
    {
     "name": "stdout",
     "output_type": "stream",
     "text": [
      "TLE Data For The ISS\n",
      "Line #1 = Satellite Name, Line #2 = First Line of TLE Data, Line #3 = Third Line of TLE Data.\n",
      "\n",
      "ISS (ZARYA)             \n",
      "1 25544U 98067A   23072.83551765  .00019982  00000+0  36637-3 0  9990\n",
      "2 25544  51.6406  80.8915 0005807  81.0948 340.6442 15.49265283387001\n"
     ]
    }
   ],
   "source": [
    "# split response into individual lines\n",
    "lines = celestrak_response.text.splitlines()\n",
    "# print(lines)\n",
    "\n",
    "# find the line that contains the response for the ISS TLE data\n",
    "for i in range(0, len(lines), 3): # the 3 in the range function in the for-loop is the step size.\n",
    "    if lines[i].startswith('ISS'):\n",
    "        tle0 = lines[i]\n",
    "        tle1 = lines[i+1]\n",
    "        tle2 = lines[i+2]\n",
    "        break\n",
    "\n",
    "# print TLE data for the ISS\n",
    "print('TLE Data For The ISS')\n",
    "print('Line #1 = Satellite Name, Line #2 = First Line of TLE Data, Line #3 = Third Line of TLE Data.')\n",
    "print()\n",
    "print(tle0)\n",
    "print(tle1)\n",
    "print(tle2)\n"
   ]
  },
  {
   "cell_type": "code",
   "execution_count": null,
   "metadata": {},
   "outputs": [],
   "source": []
  },
  {
   "cell_type": "code",
   "execution_count": null,
   "metadata": {},
   "outputs": [],
   "source": []
  },
  {
   "cell_type": "code",
   "execution_count": 40,
   "metadata": {},
   "outputs": [
    {
     "name": "stdout",
     "output_type": "stream",
     "text": [
      "Rye City Hall, 1051, Boston Post Road, City of Rye, Westchester County, New York, 10580, United States\n"
     ]
    }
   ],
   "source": [
    "# determine an approximate location relative to my exact location\n",
    "approx_geolocator = Nominatim(user_agent=\"my-app\")\n",
    "approx_user_location = approx_geolocator.reverse(f\"{user_lat}, {user_long}\")\n",
    "\n",
    "# print approximate user location\n",
    "print(approx_user_location.address) "
   ]
  },
  {
   "attachments": {},
   "cell_type": "markdown",
   "metadata": {},
   "source": [
    "| ISS Information | General |\n",
    "| ----------- | ----------- |\n",
    "\n",
    "* 90 minutes to complete 1 rotation around the earth\n",
    "* The distance at which the ISS is visible from the ground depends on various factors such as the altitude of the ISS, the brightness of the ISS, the lighting conditions, and the weather conditions. Generally, the ISS is visible from the ground at a maximum distance of around 2,000 kilometers (1,200 miles) under ideal viewing conditions.\n",
    "* The ISS is in low-earth orbit, so it won't maintain a specific ground-track along the earth.\n",
    "* Technically speaking, the ISS is both a satellite and a spacecraft, but it is not a conventional satellite in the sense that it was not designed to orbit the Earth on its own.\n",
    "    * Therefore, while the ISS does technically qualify as a satellite, it is more commonly referred to as a spacecraft or space station to differentiate it from other types of satellites.\n",
    "* TLE stands for \"Two-Line Element\" and it is a data format used to describe the orbit of a satellite. \n",
    "    * The TLE format was developed by the United States Department of Defense to describe the orbits of objects in Earth orbit, such as satellites and space debris.\n",
    "    * Computer programs used to track satellites take into account factors such as the Earth's rotation, gravitational forces, and atmospheric drag to predict the satellite's location and movement over time.\n",
    "\n",
    "| ISS Important Variables |\n",
    "| ----------- |\n",
    "1. TIME - is when the sighting opportunity will begin in your local time zone. All sightings will occur within a few hours before or after sunrise or sunset. This is the optimum viewing period as the sun reflects off the space station and contrasts against the darker sky.\n",
    "\n",
    "2. VISIBLE - is the maximum time period the space station is visible before crossing back below the horizon.\n",
    "\n",
    "3. MAX_HEIGHT - is measured in degrees (also known as elevation). It represents the height of the space station from the horizon in the night sky. The horizon is at zero degrees, and directly overhead is ninety degrees. If you hold your fist at arm's length and place your fist resting on the horizon, the top will be about 10 degrees.\n",
    "\n",
    "4. APPEARS - is the location in the sky where the station will be visible first. This value, like maximum height, also is measured in degrees from the horizon. The letters represent compass directions -- N is north, WNW is west by northwest, and so on.\n",
    "\n",
    "5. DISSAPEARS - represents where in the night sky the International Space Station will leave your field of view.\n",
    "\n",
    "| Coding Considerations / Planning & Ideas |\n",
    "| ----------- |\n",
    "* XXX\n",
    "* XXX\n",
    "\n"
   ]
  },
  {
   "attachments": {},
   "cell_type": "markdown",
   "metadata": {},
   "source": [
    "| END OF PROGRAM | \n",
    "| ----------- |"
   ]
  },
  {
   "cell_type": "code",
   "execution_count": 41,
   "metadata": {},
   "outputs": [],
   "source": [
    "from math import sin, cos, sqrt, atan2, radians\n",
    "\n",
    "def distance(lat1, lon1, lat2, lon2):\n",
    "    R = 6371  # radius of the Earth in kilometers\n",
    "    lat1, lon1, lat2, lon2 = map(radians, [lat1, lon1, lat2, lon2])\n",
    "    dlat = lat2 - lat1\n",
    "    dlon = lon2 - lon1"
   ]
  },
  {
   "cell_type": "code",
   "execution_count": 42,
   "metadata": {},
   "outputs": [
    {
     "name": "stdout",
     "output_type": "stream",
     "text": [
      "Latitude: 32.7635\n",
      "Longitude: -117.2028\n"
     ]
    }
   ],
   "source": [
    "# get the location of my ip address\n",
    "g = geocoder.ip('me')\n",
    "my_latitude, my_longitude = g.latlng\n",
    "print(\"Latitude:\", my_latitude) # float\n",
    "print(\"Longitude:\", my_longitude) # float"
   ]
  },
  {
   "cell_type": "code",
   "execution_count": 43,
   "metadata": {},
   "outputs": [],
   "source": [
    "# get my location geocoded aka reverse coded address\n",
    "geolocator = Nominatim(user_agent=\"my-app\")\n",
    "my_location = geolocator.reverse(f\"{my_latitude}, {my_longitude}\")\n",
    "\n",
    "# print a location near to where I am -> close enough at least for ISS viewing\n",
    "# print(my_location.address) "
   ]
  },
  {
   "cell_type": "code",
   "execution_count": 44,
   "metadata": {},
   "outputs": [
    {
     "data": {
      "text/plain": [
       "'208.71.27.119'"
      ]
     },
     "execution_count": 44,
     "metadata": {},
     "output_type": "execute_result"
    }
   ],
   "source": [
    "\"\"\"Get the latitude and longitude of the users location\"\"\"\n",
    "# get my devices public ip address\n",
    "device_public_ip_response = requests.get(\"http://icanhazip.com\")\n",
    "device_public_ip = device_public_ip_response.text.strip()\n",
    "\n",
    "# print(f\"My Public IP Address: {device_public_ip}\")\n",
    "\n",
    "device_public_ip"
   ]
  },
  {
   "cell_type": "code",
   "execution_count": 45,
   "metadata": {},
   "outputs": [
    {
     "ename": "NameError",
     "evalue": "name 'IP_GEOLOCATION_API_KEY' is not defined",
     "output_type": "error",
     "traceback": [
      "\u001b[0;31m---------------------------------------------------------------------------\u001b[0m",
      "\u001b[0;31mNameError\u001b[0m                                 Traceback (most recent call last)",
      "Cell \u001b[0;32mIn[45], line 1\u001b[0m\n\u001b[0;32m----> 1\u001b[0m response \u001b[39m=\u001b[39m requests\u001b[39m.\u001b[39mget(\u001b[39mf\u001b[39m\u001b[39m\"\u001b[39m\u001b[39mhttps://ipgeolocation.io/ipgeo?apiKey=\u001b[39m\u001b[39m{\u001b[39;00mIP_GEOLOCATION_API_KEY\u001b[39m}\u001b[39;00m\u001b[39m&ip=\u001b[39m\u001b[39m{\u001b[39;00mdevice_public_ip\u001b[39m}\u001b[39;00m\u001b[39m\"\u001b[39m)\n\u001b[1;32m      2\u001b[0m data \u001b[39m=\u001b[39m response\u001b[39m.\u001b[39mjson()\n\u001b[1;32m      4\u001b[0m \u001b[39m# latitude = data[\"latitude\"]\u001b[39;00m\n\u001b[1;32m      5\u001b[0m \u001b[39m# longitude = data[\"longitude\"]\u001b[39;00m\n\u001b[1;32m      6\u001b[0m \n\u001b[1;32m      7\u001b[0m \u001b[39m# print(f\"Latitude: {latitude}\")\u001b[39;00m\n\u001b[1;32m      8\u001b[0m \u001b[39m# print(f\"Longitude: {longitude}\")\u001b[39;00m\n",
      "\u001b[0;31mNameError\u001b[0m: name 'IP_GEOLOCATION_API_KEY' is not defined"
     ]
    }
   ],
   "source": [
    "response = requests.get(f\"https://ipgeolocation.io/ipgeo?apiKey={IP_GEOLOCATION_API_KEY}&ip={device_public_ip}\")\n",
    "data = response.json()\n",
    "\n",
    "# latitude = data[\"latitude\"]\n",
    "# longitude = data[\"longitude\"]\n",
    "\n",
    "# print(f\"Latitude: {latitude}\")\n",
    "# print(f\"Longitude: {longitude}\")\n"
   ]
  },
  {
   "cell_type": "code",
   "execution_count": null,
   "metadata": {},
   "outputs": [],
   "source": [
    "# get my location\n",
    "device_loc_response = requests.get(f\"https://ipgeolocation.io/ipgeo?apiKey={IP_GEOLOCATION_API_KEY}&ip='24.188.168.62'\")\n",
    "device_loc_data = device_loc_response.json()"
   ]
  },
  {
   "cell_type": "code",
   "execution_count": null,
   "metadata": {},
   "outputs": [
    {
     "name": "stdout",
     "output_type": "stream",
     "text": [
      "-45.8932\n",
      "14.2831\n"
     ]
    }
   ],
   "source": [
    "# convert lat/long strings to float objects\n",
    "iss_latitude_float = float(iss_latitude_string)\n",
    "iss_longitude_float = float(iss_longitude_string)\n",
    "\n",
    "# print lat/long as float objects\n",
    "print(iss_latitude_float)\n",
    "print(iss_longitude_float)"
   ]
  },
  {
   "cell_type": "code",
   "execution_count": null,
   "metadata": {},
   "outputs": [],
   "source": [
    "\"\"\"Get the latitude and longitude of the users location\"\"\"\n",
    "\n",
    "ip_address = \"8.8.8.8\"\n",
    "\n",
    "response = requests.get(f\"https://ipgeolocation.io/ipgeo?apiKey={IP_GEOLOCATION_API_KEY}&ip={ip_address}\")\n",
    "data = response.json()\n",
    "\n",
    "latitude = data[\"latitude\"]\n",
    "longitude = data[\"longitude\"]\n",
    "\n",
    "print(f\"Latitude: {latitude}\")\n",
    "print(f\"Longitude: {longitude}\")\n"
   ]
  },
  {
   "cell_type": "code",
   "execution_count": null,
   "metadata": {},
   "outputs": [
    {
     "name": "stdout",
     "output_type": "stream",
     "text": [
      "{'message': 'Provided API key is not valid. Contact technical support for assistance at support@ipgeolocation.io'}\n"
     ]
    }
   ],
   "source": [
    "\"\"\"Get the latitude and longitude of the users location\"\"\"\n",
    "# GET the user's location\n",
    "user_loc_response = requests.get(f\"https://api.ipgeolocation.io/ipgeo?apiKey={IP_GEOLOCATION_API_KEY}\")\n",
    "user_loc_data = user_loc_response.json()\n",
    "print(user_loc_data)\n",
    "\n",
    "# # extract the latitude and longitude from the response\n",
    "# user_latitude = float(user_loc_data[\"latitude\"])\n",
    "# user_longitude = float(user_loc_data[\"longitude\"])\n",
    "\n",
    "# # print the latitude and longitude of the users location\n",
    "# print(f\"User's Latitude: {user_latitude}\")\n",
    "# print(f\"User's Longitude: {user_longitude}\")\n",
    "\n"
   ]
  },
  {
   "cell_type": "code",
   "execution_count": null,
   "metadata": {},
   "outputs": [
    {
     "name": "stdout",
     "output_type": "stream",
     "text": [
      "Location not found.\n"
     ]
    }
   ],
   "source": [
    "# Create a geolocator object\n",
    "geolocator = Nominatim(user_agent=\"my-app\")\n",
    "\n",
    "# Define the latitude and longitude\n",
    "latitude = -32.5395\n",
    "longitude = -75.9591\n",
    "\n",
    "# Use the geolocator to reverse geocode the location\n",
    "location = geolocator.reverse(f\"{latitude}, {longitude}\")\n",
    "\n",
    "if location is not None:\n",
    "    # Extract the address components from the location\n",
    "    address = location.raw[\"address\"]\n",
    "    country = address.get(\"country\", \"\")\n",
    "    ocean = address.get(\"ocean\", \"\")\n",
    "    sea = address.get(\"sea\", \"\")\n",
    "\n",
    "    # Print the results\n",
    "    if country:\n",
    "        print(f\"Country: {country}\")\n",
    "    if ocean:\n",
    "        print(f\"Ocean: {ocean}\")\n",
    "    if sea:\n",
    "        print(f\"Sea: {sea}\")\n",
    "else:\n",
    "    print(\"Location not found.\")\n"
   ]
  },
  {
   "cell_type": "code",
   "execution_count": null,
   "metadata": {},
   "outputs": [],
   "source": [
    "latitude = iss_latitude_float\n",
    "longitude = iss_longitude_float"
   ]
  },
  {
   "cell_type": "code",
   "execution_count": null,
   "metadata": {},
   "outputs": [
    {
     "name": "stdout",
     "output_type": "stream",
     "text": [
      "None\n"
     ]
    }
   ],
   "source": [
    "geolocator = Nominatim(user_agent=\"my-app\")\n",
    "latitude = -32.5395\n",
    "longitude = iss_longitude_float\n",
    "\n",
    "location = geolocator.reverse(f'{latitude}, {longitude}')\n",
    "print(location)\n",
    "\n",
    "# extract address components from the ISS location\n",
    "# address = iss_proximity_location.raw[\"address\"]\n",
    "# country = address.get(\"country\", \"\")\n",
    "# ocean = address.get(\"ocean\", \"\")\n",
    "# sea = address.get(\"sea\", \"\")\n",
    "\n",
    "# if country:\n",
    "#     print(f\"Country: {country}\")\n",
    "# if ocean:\n",
    "#     print(f\"Ocean: {ocean}\")\n",
    "# if sea:\n",
    "#     print(f\"Sea: {sea}\")\n",
    "# else:\n",
    "#     print(\"Location not found.\")\n",
    "\n"
   ]
  },
  {
   "cell_type": "code",
   "execution_count": null,
   "metadata": {},
   "outputs": [
    {
     "name": "stdout",
     "output_type": "stream",
     "text": [
      "Country: United States\n"
     ]
    }
   ],
   "source": [
    "from geopy.geocoders import Nominatim\n",
    "\n",
    "# Create a geolocator object\n",
    "geolocator = Nominatim(user_agent=\"my-app\")\n",
    "\n",
    "# Define the latitude and longitude\n",
    "latitude = 40.7128\n",
    "longitude = -74.0060\n",
    "\n",
    "# Use the geolocator to reverse geocode the location\n",
    "location = geolocator.reverse(f\"{latitude}, {longitude}\")\n",
    "\n",
    "if location is not None:\n",
    "    # Extract the address components from the location\n",
    "    address = location.raw[\"address\"]\n",
    "    country = address.get(\"country\", \"\")\n",
    "    ocean = address.get(\"ocean\", \"\")\n",
    "    sea = address.get(\"sea\", \"\")\n",
    "\n",
    "    # Print the results\n",
    "    if country:\n",
    "        print(f\"Country: {country}\")\n",
    "    if ocean:\n",
    "        print(f\"Ocean: {ocean}\")\n",
    "    if sea:\n",
    "        print(f\"Sea: {sea}\")\n",
    "else:\n",
    "    print(\"Location not found.\")\n"
   ]
  },
  {
   "cell_type": "code",
   "execution_count": null,
   "metadata": {},
   "outputs": [
    {
     "name": "stdout",
     "output_type": "stream",
     "text": [
      "Country: United States\n"
     ]
    }
   ],
   "source": [
    "from geopy.geocoders import Nominatim\n",
    "\n",
    "# Create a geolocator object\n",
    "geolocator = Nominatim(user_agent=\"my-app\")\n",
    "\n",
    "# Define the latitude and longitude\n",
    "latitude = 40.7128\n",
    "longitude = -74.0060\n",
    "\n",
    "# Use the geolocator to reverse geocode the location\n",
    "location = geolocator.reverse(f\"{latitude}, {longitude}\")\n",
    "\n",
    "if location is not None:\n",
    "    # Extract the address components from the location\n",
    "    address = location.raw[\"address\"]\n",
    "    country = address.get(\"country\", \"\")\n",
    "    ocean = address.get(\"ocean\", \"\")\n",
    "    sea = address.get(\"sea\", \"\")\n",
    "\n",
    "    # Print the results\n",
    "    if country:\n",
    "        print(f\"Country: {country}\")\n",
    "    if ocean:\n",
    "        print(f\"Ocean: {ocean}\")\n",
    "    if sea:\n",
    "        print(f\"Sea: {sea}\")\n",
    "else:\n",
    "    print(\"Location not found.\")\n"
   ]
  }
 ],
 "metadata": {
  "kernelspec": {
   "display_name": "space_venv",
   "language": "python",
   "name": "python3"
  },
  "language_info": {
   "codemirror_mode": {
    "name": "ipython",
    "version": 3
   },
   "file_extension": ".py",
   "mimetype": "text/x-python",
   "name": "python",
   "nbconvert_exporter": "python",
   "pygments_lexer": "ipython3",
   "version": "3.11.1"
  },
  "orig_nbformat": 4,
  "vscode": {
   "interpreter": {
    "hash": "ddbd1b0ffa3789345d38f208869ae6315a975344c125fd2df25b0871f653b25d"
   }
  }
 },
 "nbformat": 4,
 "nbformat_minor": 2
}
