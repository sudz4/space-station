{
 "cells": [
  {
   "attachments": {},
   "cell_type": "markdown",
   "metadata": {},
   "source": [
    "| ISS Tracker | International Space Station Tracker  |\n",
    "| ----------- | ----------- |\n",
    "| Date | Feb 2023 |\n",
    "| Base API url | http://api.open-notify.org/ |\n",
    "| Base API url | http://api.open-notify.org/ |\n",
    "| Base API url | http://api.open-notify.org/ |\n",
    "| Base API url | http://api.open-notify.org/ |"
   ]
  },
  {
   "cell_type": "code",
   "execution_count": 8,
   "metadata": {},
   "outputs": [],
   "source": [
    "# libraries\n",
    "import requests\n",
    "from geopy.geocoders import Nominatim\n",
    "\n",
    "# config file(s) import"
   ]
  },
  {
   "cell_type": "code",
   "execution_count": 2,
   "metadata": {},
   "outputs": [
    {
     "name": "stdout",
     "output_type": "stream",
     "text": [
      "{'message': 'success', 'timestamp': 1676332027, 'iss_position': {'longitude': '-118.3038', 'latitude': '19.7440'}}\n"
     ]
    }
   ],
   "source": [
    "\"\"\"Get the current location of the ISS\"\"\"\n",
    "# send a GET request to the ISS API endpoint\n",
    "response = requests.get(\"http://api.open-notify.org/iss-now.json\")\n",
    "data = response.json()\n",
    "\n",
    "# print the API parameters\n",
    "print(data)"
   ]
  },
  {
   "cell_type": "code",
   "execution_count": 6,
   "metadata": {},
   "outputs": [
    {
     "name": "stdout",
     "output_type": "stream",
     "text": [
      "Current ISS Location:\n",
      "Latitude: 19.7440\n",
      "Longitude: -118.3038\n"
     ]
    }
   ],
   "source": [
    "# extract the latitude and longitude for the current location of the ISS\n",
    "iss_latitude = data['iss_position']['latitude']\n",
    "iss_longitude = data['iss_position']['longitude']\n",
    "\n",
    "# print the current latitude and longitude for the ISS\n",
    "print(\"Current ISS Location:\")\n",
    "print(f\"Latitude: {iss_latitude}\")\n",
    "print(f\"Longitude: {iss_longitude}\")\n",
    "\n",
    "# create a geolocator object\n"
   ]
  },
  {
   "cell_type": "code",
   "execution_count": 14,
   "metadata": {},
   "outputs": [
    {
     "data": {
      "text/plain": [
       "'19.7440'"
      ]
     },
     "execution_count": 14,
     "metadata": {},
     "output_type": "execute_result"
    }
   ],
   "source": [
    "iss_latitude"
   ]
  },
  {
   "cell_type": "code",
   "execution_count": 15,
   "metadata": {},
   "outputs": [
    {
     "name": "stdout",
     "output_type": "stream",
     "text": [
      "None\n"
     ]
    }
   ],
   "source": [
    "proximity_latitude = iss_latitude\n",
    "proximity_longitude = iss_longitude\n",
    "\n",
    "\n",
    "\n",
    "\n",
    "geolocator = Nominatim(user_agent=\"my-app\")\n",
    "iss_proximity_location = geolocator.reverse(f'{iss_latitude}, {iss_longitude}')\n",
    "print(iss_proximity_location)\n",
    "\n",
    "# # extract address components from the ISS location\n",
    "# address = iss_proximity_location.raw[\"address\"]\n",
    "# country = address.get(\"country\", \"\")\n",
    "# ocean = address.get(\"ocean\", \"\")\n",
    "# sea = address.get(\"sea\", \"\")\n",
    "\n",
    "# if country:\n",
    "#     print(f\"Country: {country}\")\n",
    "# if ocean:\n",
    "#     print(f\"Ocean: {ocean}\")\n",
    "# if sea:\n",
    "#     print(f\"Sea: {sea}\")\n",
    "# else:\n",
    "#     print(\"Location not found.\")\n",
    "\n"
   ]
  },
  {
   "cell_type": "code",
   "execution_count": 16,
   "metadata": {},
   "outputs": [
    {
     "name": "stdout",
     "output_type": "stream",
     "text": [
      "Country: United States\n"
     ]
    }
   ],
   "source": [
    "from geopy.geocoders import Nominatim\n",
    "\n",
    "# Create a geolocator object\n",
    "geolocator = Nominatim(user_agent=\"my-app\")\n",
    "\n",
    "# Define the latitude and longitude\n",
    "latitude = 40.7128\n",
    "longitude = -74.0060\n",
    "\n",
    "# Use the geolocator to reverse geocode the location\n",
    "location = geolocator.reverse(f\"{latitude}, {longitude}\")\n",
    "\n",
    "if location is not None:\n",
    "    # Extract the address components from the location\n",
    "    address = location.raw[\"address\"]\n",
    "    country = address.get(\"country\", \"\")\n",
    "    ocean = address.get(\"ocean\", \"\")\n",
    "    sea = address.get(\"sea\", \"\")\n",
    "\n",
    "    # Print the results\n",
    "    if country:\n",
    "        print(f\"Country: {country}\")\n",
    "    if ocean:\n",
    "        print(f\"Ocean: {ocean}\")\n",
    "    if sea:\n",
    "        print(f\"Sea: {sea}\")\n",
    "else:\n",
    "    print(\"Location not found.\")\n"
   ]
  },
  {
   "cell_type": "code",
   "execution_count": null,
   "metadata": {},
   "outputs": [],
   "source": [
    "type(latitude)"
   ]
  }
 ],
 "metadata": {
  "kernelspec": {
   "display_name": "space_venv",
   "language": "python",
   "name": "python3"
  },
  "language_info": {
   "codemirror_mode": {
    "name": "ipython",
    "version": 3
   },
   "file_extension": ".py",
   "mimetype": "text/x-python",
   "name": "python",
   "nbconvert_exporter": "python",
   "pygments_lexer": "ipython3",
   "version": "3.11.1"
  },
  "orig_nbformat": 4,
  "vscode": {
   "interpreter": {
    "hash": "ddbd1b0ffa3789345d38f208869ae6315a975344c125fd2df25b0871f653b25d"
   }
  }
 },
 "nbformat": 4,
 "nbformat_minor": 2
}
